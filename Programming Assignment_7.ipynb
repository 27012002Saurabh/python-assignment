{
 "cells": [
  {
   "cell_type": "markdown",
   "id": "35297a20",
   "metadata": {},
   "source": [
    "## Programming Basic Assignment 7"
   ]
  },
  {
   "cell_type": "markdown",
   "id": "27349114",
   "metadata": {},
   "source": [
    "### 1. Write a Python Program to find sum of array?"
   ]
  },
  {
   "cell_type": "code",
   "execution_count": 4,
   "id": "d166bb1c-f3be-458b-a983-5dd28ce4ff8b",
   "metadata": {},
   "outputs": [
    {
     "name": "stdin",
     "output_type": "stream",
     "text": [
      "Enter the elements of the array (space-separated):  12\n"
     ]
    },
    {
     "name": "stdout",
     "output_type": "stream",
     "text": [
      "The sum of the array elements is: 12\n"
     ]
    }
   ],
   "source": [
    "def array_sum(arr):\n",
    "    return sum(arr)\n",
    "\n",
    "# Taking user input for the array\n",
    "try:\n",
    "    # For Python 2.x, use raw_input instead of input\n",
    "    elements = input(\"Enter the elements of the array (space-separated): \")\n",
    "    \n",
    "    # Convert input to a list of integers\n",
    "    arr = list(map(int, elements.split()))\n",
    "\n",
    "    # Calculate and display the sum\n",
    "    result = array_sum(arr)\n",
    "    print(f\"The sum of the array elements is: {result}\")\n",
    "\n",
    "except ValueError:\n",
    "    print(\"Invalid input. Please enter a valid list of integers.\")\n"
   ]
  },
  {
   "cell_type": "markdown",
   "id": "171a980d",
   "metadata": {},
   "source": [
    "### 2. Write a Python Program to find largest element in an array?\n"
   ]
  },
  {
   "cell_type": "code",
   "execution_count": 5,
   "id": "d19dd72c-946e-45ea-8e4b-cc12cc8ea9d0",
   "metadata": {},
   "outputs": [
    {
     "name": "stdin",
     "output_type": "stream",
     "text": [
      "Enter the elements of the array (space-separated):  5\n"
     ]
    },
    {
     "name": "stdout",
     "output_type": "stream",
     "text": [
      "The largest element in the array is: 5\n"
     ]
    }
   ],
   "source": [
    "def find_largest_element(arr):\n",
    "    if not arr:\n",
    "        print(\"Array is empty.\")\n",
    "        return None\n",
    "    \n",
    "    largest = arr[0]\n",
    "\n",
    "    for element in arr:\n",
    "        if element > largest:\n",
    "            largest = element\n",
    "\n",
    "    return largest\n",
    "\n",
    "# Taking user input for the array\n",
    "try:\n",
    "    # For Python 2.x, use raw_input instead of input\n",
    "    elements = input(\"Enter the elements of the array (space-separated): \")\n",
    "    \n",
    "    # Convert input to a list of integers\n",
    "    arr = list(map(int, elements.split()))\n",
    "\n",
    "    # Find and display the largest element\n",
    "    result = find_largest_element(arr)\n",
    "    if result is not None:\n",
    "        print(f\"The largest element in the array is: {result}\")\n",
    "\n",
    "except ValueError:\n",
    "    print(\"Invalid input. Please enter a valid list of integers.\")\n"
   ]
  },
  {
   "cell_type": "markdown",
   "id": "21613246",
   "metadata": {},
   "source": [
    "### 3. Write a Python Program for array rotation?"
   ]
  },
  {
   "cell_type": "code",
   "execution_count": 6,
   "id": "88ded309-3b78-4d06-8bc9-dd6e06a38aa2",
   "metadata": {},
   "outputs": [
    {
     "name": "stdin",
     "output_type": "stream",
     "text": [
      "Enter the elements of the array (space-separated):  5\n",
      "Enter the number of positions to rotate the array:  2\n"
     ]
    },
    {
     "name": "stdout",
     "output_type": "stream",
     "text": [
      "The rotated array is: [5]\n"
     ]
    }
   ],
   "source": [
    "def rotate_array(arr, k):\n",
    "    n = len(arr)\n",
    "\n",
    "    # Rotate the array using slicing\n",
    "    rotated_array = arr[k % n:] + arr[:k % n]\n",
    "\n",
    "    return rotated_array\n",
    "\n",
    "# Taking user input for the array\n",
    "try:\n",
    "    # For Python 2.x, use raw_input instead of input\n",
    "    elements = input(\"Enter the elements of the array (space-separated): \")\n",
    "    \n",
    "    # Convert input to a list of integers\n",
    "    arr = list(map(int, elements.split()))\n",
    "\n",
    "    # Taking user input for the rotation count\n",
    "    k = int(input(\"Enter the number of positions to rotate the array: \"))\n",
    "\n",
    "    # Rotate and display the array\n",
    "    rotated_result = rotate_array(arr, k)\n",
    "    print(f\"The rotated array is: {rotated_result}\")\n",
    "\n",
    "except ValueError:\n",
    "    print(\"Invalid input. Please enter a valid list of integers and a rotation count.\")\n"
   ]
  },
  {
   "cell_type": "markdown",
   "id": "3e52d939",
   "metadata": {},
   "source": [
    "### 4. Write a Python Program to Split the array and add the first part to the end?"
   ]
  },
  {
   "cell_type": "code",
   "execution_count": 12,
   "id": "c05176a1-bc08-4682-a4bd-6238361a31e8",
   "metadata": {},
   "outputs": [
    {
     "name": "stdin",
     "output_type": "stream",
     "text": [
      "Enter the elements of the array (space-separated):  24\n",
      "Enter the split index:  0\n"
     ]
    },
    {
     "name": "stdout",
     "output_type": "stream",
     "text": [
      "The array after splitting and adding is: [24]\n"
     ]
    }
   ],
   "source": [
    "def split_and_add(arr, split_index):\n",
    "    if split_index < 0 or split_index >= len(arr):\n",
    "        print(\"Invalid split index. Please enter a valid index.\")\n",
    "        return None\n",
    "\n",
    "    # Split the array and add the first part to the end\n",
    "    split_array = arr[split_index+1:] + arr[:split_index+1]\n",
    "\n",
    "    return split_array\n",
    "\n",
    "# Taking user input for the array\n",
    "try:\n",
    "    # For Python 2.x, use raw_input instead of input\n",
    "    elements = input(\"Enter the elements of the array (space-separated): \")\n",
    "    \n",
    "    # Convert input to a list of integers\n",
    "    arr = list(map(int, elements.split()))\n",
    "\n",
    "    # Taking user input for the split index\n",
    "    split_index = int(input(\"Enter the split index: \"))\n",
    "\n",
    "    # Split and add, then display the array\n",
    "    result = split_and_add(arr, split_index)\n",
    "    if result is not None:\n",
    "        print(f\"The array after splitting and adding is: {result}\")\n",
    "\n",
    "except ValueError:\n",
    "    print(\"Invalid input. Please enter a valid list of integers and a split index.\")\n"
   ]
  },
  {
   "cell_type": "markdown",
   "id": "aa375779",
   "metadata": {},
   "source": [
    "### 5. Write a Python Program to check if given array is Monotonic?"
   ]
  },
  {
   "cell_type": "code",
   "execution_count": 13,
   "id": "46d18ad8-dd1b-4fad-a4a0-8f70d15e53b4",
   "metadata": {},
   "outputs": [
    {
     "name": "stdin",
     "output_type": "stream",
     "text": [
      "Enter the elements of the array (space-separated):  6\n"
     ]
    },
    {
     "name": "stdout",
     "output_type": "stream",
     "text": [
      "The array is monotonic.\n"
     ]
    }
   ],
   "source": [
    "def is_monotonic(arr):\n",
    "    increasing = decreasing = True\n",
    "\n",
    "    for i in range(1, len(arr)):\n",
    "        if arr[i] > arr[i - 1]:\n",
    "            decreasing = False\n",
    "        if arr[i] < arr[i - 1]:\n",
    "            increasing = False\n",
    "\n",
    "    return increasing or decreasing\n",
    "\n",
    "# Taking user input for the array\n",
    "try:\n",
    "    # For Python 2.x, use raw_input instead of input\n",
    "    elements = input(\"Enter the elements of the array (space-separated): \")\n",
    "    \n",
    "    # Convert input to a list of integers\n",
    "    arr = list(map(int, elements.split()))\n",
    "\n",
    "    # Check if the array is monotonic\n",
    "    if is_monotonic(arr):\n",
    "        print(\"The array is monotonic.\")\n",
    "    else:\n",
    "        print(\"The array is not monotonic.\")\n",
    "\n",
    "except ValueError:\n",
    "    print(\"Invalid input. Please enter a valid list of integers.\")\n"
   ]
  },
  {
   "cell_type": "code",
   "execution_count": null,
   "id": "356d052c-b142-46f1-b354-0adbacb70a07",
   "metadata": {},
   "outputs": [],
   "source": []
  }
 ],
 "metadata": {
  "kernelspec": {
   "display_name": "Python 3 (ipykernel)",
   "language": "python",
   "name": "python3"
  },
  "language_info": {
   "codemirror_mode": {
    "name": "ipython",
    "version": 3
   },
   "file_extension": ".py",
   "mimetype": "text/x-python",
   "name": "python",
   "nbconvert_exporter": "python",
   "pygments_lexer": "ipython3",
   "version": "3.11.5"
  }
 },
 "nbformat": 4,
 "nbformat_minor": 5
}
