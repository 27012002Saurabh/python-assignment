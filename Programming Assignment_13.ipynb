{
 "cells": [
  {
   "cell_type": "markdown",
   "id": "62fd0c8e",
   "metadata": {},
   "source": [
    "# Python Programming Basic Assignment 13"
   ]
  },
  {
   "cell_type": "markdown",
   "id": "ed4a3c0b",
   "metadata": {},
   "source": [
    "\n",
    "### 1. Write a program that calculates and prints the value according to the given formula:\n",
    "Q = Square root of [(2 C D)/H]\n",
    "\n",
    "Following are the fixed values of C and H:\n",
    "\n",
    "C is 50. H is 30.\n",
    "\n",
    "D is the variable whose values should be input to your program in a comma-separated sequence.\n",
    "\n",
    "Example\n",
    "\n",
    "Let us assume the following comma separated input sequence is given to the program:\n",
    "\n",
    "100,150,180\n",
    "\n",
    "The output of the program should be:\n",
    "\n",
    "18,22,24"
   ]
  },
  {
   "cell_type": "code",
   "execution_count": 1,
   "id": "9ef0b7c1-0a4d-4b73-9c91-8bea72b86b28",
   "metadata": {},
   "outputs": [
    {
     "name": "stdin",
     "output_type": "stream",
     "text": [
      "Enter comma-separated values for D:  100150180\n"
     ]
    },
    {
     "name": "stdout",
     "output_type": "stream",
     "text": [
      "Output: 18271\n"
     ]
    }
   ],
   "source": [
    "import math\n",
    "\n",
    "def calculate_values(input_values):\n",
    "    C = 50\n",
    "    H = 30\n",
    "\n",
    "    result_values = []\n",
    "    for D in input_values:\n",
    "        Q = int(math.sqrt((2 * C * int(D)) / H))\n",
    "        result_values.append(Q)\n",
    "\n",
    "    return result_values\n",
    "\n",
    "# Example input values\n",
    "input_sequence = input(\"Enter comma-separated values for D: \")\n",
    "input_values = [int(value) for value in input_sequence.split(',')]\n",
    "\n",
    "# Call the function to calculate values\n",
    "result_output = calculate_values(input_values)\n",
    "\n",
    "# Display the result\n",
    "print(\"Output:\", \",\".join(map(str, result_output)))\n"
   ]
  },
  {
   "cell_type": "markdown",
   "id": "ed37b6ed",
   "metadata": {},
   "source": [
    "### 2. Write a program which takes 2 digits, X,Y as input and generates a 2-dimensional array. The element value in the i-th row and j-th column of the array should be i*j."
   ]
  },
  {
   "cell_type": "code",
   "execution_count": 2,
   "id": "dcfdb911-209c-4b36-a0a7-623ace46389f",
   "metadata": {},
   "outputs": [
    {
     "name": "stdin",
     "output_type": "stream",
     "text": [
      "Enter the number of rows (X):  2\n",
      "Enter the number of columns (Y):  6\n"
     ]
    },
    {
     "name": "stdout",
     "output_type": "stream",
     "text": [
      "Generated 2-dimensional array:\n",
      "[0, 0, 0, 0, 0, 0]\n",
      "[0, 1, 2, 3, 4, 5]\n"
     ]
    }
   ],
   "source": [
    "def generate_2d_array(X, Y):\n",
    "    result_array = [[i * j for j in range(Y)] for i in range(X)]\n",
    "    return result_array\n",
    "\n",
    "# Take input for X and Y\n",
    "X = int(input(\"Enter the number of rows (X): \"))\n",
    "Y = int(input(\"Enter the number of columns (Y): \"))\n",
    "\n",
    "# Call the function to generate the 2-dimensional array\n",
    "result_2d_array = generate_2d_array(X, Y)\n",
    "\n",
    "# Display the result\n",
    "print(\"Generated 2-dimensional array:\")\n",
    "for row in result_2d_array:\n",
    "    print(row)\n"
   ]
  },
  {
   "cell_type": "markdown",
   "id": "bc7f977b",
   "metadata": {},
   "source": [
    "### 3. Write a program that accepts a comma separated sequence of words as input and prints the words in a comma-separated sequence after sorting them alphabetically."
   ]
  },
  {
   "cell_type": "code",
   "execution_count": 3,
   "id": "204dd85a-b543-4e96-8f77-3740b9fb1a66",
   "metadata": {},
   "outputs": [
    {
     "name": "stdin",
     "output_type": "stream",
     "text": [
      "Enter a comma-separated sequence of words:  60\n"
     ]
    },
    {
     "name": "stdout",
     "output_type": "stream",
     "text": [
      "Sorted Words: 60\n"
     ]
    }
   ],
   "source": [
    "# Take input for comma-separated sequence of words\n",
    "input_sequence = input(\"Enter a comma-separated sequence of words: \")\n",
    "\n",
    "# Split the input sequence into a list of words\n",
    "words_list = [word.strip() for word in input_sequence.split(',')]\n",
    "\n",
    "# Sort the list of words alphabetically\n",
    "sorted_words = sorted(words_list)\n",
    "\n",
    "# Join the sorted words into a comma-separated sequence\n",
    "result_sequence = \",\".join(sorted_words)\n",
    "\n",
    "# Display the result\n",
    "print(\"Sorted Words:\", result_sequence)\n"
   ]
  },
  {
   "cell_type": "markdown",
   "id": "171c3d90",
   "metadata": {},
   "source": [
    "### 4. Write a program that accepts a sequence of whitespace separated words as input and prints the words after removing all duplicate words and sorting them alphanumerically."
   ]
  },
  {
   "cell_type": "code",
   "execution_count": 4,
   "id": "3abced08-7c5b-450e-bd04-63e5ad2d24ea",
   "metadata": {},
   "outputs": [
    {
     "name": "stdin",
     "output_type": "stream",
     "text": [
      "Enter a sequence of whitespace-separated words:  50\n"
     ]
    },
    {
     "name": "stdout",
     "output_type": "stream",
     "text": [
      "Sorted and Unique Words: 50\n"
     ]
    }
   ],
   "source": [
    "# Take input for whitespace-separated sequence of words\n",
    "input_sequence = input(\"Enter a sequence of whitespace-separated words: \")\n",
    "\n",
    "# Split the input sequence into a list of words\n",
    "words_list = input_sequence.split()\n",
    "\n",
    "# Remove duplicates and sort the list of words alphanumerically\n",
    "unique_sorted_words = sorted(set(words_list))\n",
    "\n",
    "# Join the unique sorted words into a whitespace-separated sequence\n",
    "result_sequence = \" \".join(unique_sorted_words)\n",
    "\n",
    "# Display the result\n",
    "print(\"Sorted and Unique Words:\", result_sequence)\n"
   ]
  },
  {
   "cell_type": "markdown",
   "id": "88d25c49",
   "metadata": {},
   "source": [
    "### 5. Write a program that accepts a sentence and calculate the number of letters and digits."
   ]
  },
  {
   "cell_type": "code",
   "execution_count": 5,
   "id": "1c2d9bf3-6c8a-4c61-8c88-3956ddffc169",
   "metadata": {},
   "outputs": [
    {
     "name": "stdin",
     "output_type": "stream",
     "text": [
      "Enter a sentence:  Hello World\n"
     ]
    },
    {
     "name": "stdout",
     "output_type": "stream",
     "text": [
      "Number of letters: 10\n",
      "Number of digits: 0\n"
     ]
    }
   ],
   "source": [
    "# Take input for a sentence\n",
    "input_sentence = input(\"Enter a sentence: \")\n",
    "\n",
    "# Initialize counters for letters and digits\n",
    "letter_count = 0\n",
    "digit_count = 0\n",
    "\n",
    "# Iterate through each character in the sentence\n",
    "for char in input_sentence:\n",
    "    if char.isalpha():\n",
    "        letter_count += 1\n",
    "    elif char.isdigit():\n",
    "        digit_count += 1\n",
    "\n",
    "# Display the result\n",
    "print(\"Number of letters:\", letter_count)\n",
    "print(\"Number of digits:\", digit_count)\n"
   ]
  },
  {
   "cell_type": "markdown",
   "id": "9695c4ca",
   "metadata": {},
   "source": [
    "### 6. A website requires the users to input username and password to register. Write a program to check the validity of password input by users."
   ]
  },
  {
   "cell_type": "code",
   "execution_count": 6,
   "id": "9109af7c-76c0-4e55-b7d3-b1b44302fa3b",
   "metadata": {},
   "outputs": [
    {
     "name": "stdin",
     "output_type": "stream",
     "text": [
      "Enter your password:  Saurabh@1234\n"
     ]
    },
    {
     "name": "stdout",
     "output_type": "stream",
     "text": [
      "Password is valid.\n"
     ]
    }
   ],
   "source": [
    "def is_valid_password(password):\n",
    "    # Check the length of the password\n",
    "    if len(password) < 8:\n",
    "        return False\n",
    "\n",
    "    # Check if the password contains at least one uppercase letter\n",
    "    if not any(char.isupper() for char in password):\n",
    "        return False\n",
    "\n",
    "    # Check if the password contains at least one lowercase letter\n",
    "    if not any(char.islower() for char in password):\n",
    "        return False\n",
    "\n",
    "    # Check if the password contains at least one digit\n",
    "    if not any(char.isdigit() for char in password):\n",
    "        return False\n",
    "\n",
    "    # Check if the password contains at least one special character\n",
    "    special_characters = set(\"!@#$%^&*()_-+=<>?/[]{}|\")\n",
    "    if not any(char in special_characters for char in password):\n",
    "        return False\n",
    "\n",
    "    # If all checks pass, the password is considered valid\n",
    "    return True\n",
    "\n",
    "# Take input for the password\n",
    "password_input = input(\"Enter your password: \")\n",
    "\n",
    "# Check the validity of the password\n",
    "if is_valid_password(password_input):\n",
    "    print(\"Password is valid.\")\n",
    "else:\n",
    "    print(\"Password is not valid. Please follow the password criteria.\")\n"
   ]
  },
  {
   "cell_type": "code",
   "execution_count": null,
   "id": "b9bda319-c248-4e2d-91eb-c941455e8633",
   "metadata": {},
   "outputs": [],
   "source": []
  }
 ],
 "metadata": {
  "kernelspec": {
   "display_name": "Python 3 (ipykernel)",
   "language": "python",
   "name": "python3"
  },
  "language_info": {
   "codemirror_mode": {
    "name": "ipython",
    "version": 3
   },
   "file_extension": ".py",
   "mimetype": "text/x-python",
   "name": "python",
   "nbconvert_exporter": "python",
   "pygments_lexer": "ipython3",
   "version": "3.11.5"
  }
 },
 "nbformat": 4,
 "nbformat_minor": 5
}
