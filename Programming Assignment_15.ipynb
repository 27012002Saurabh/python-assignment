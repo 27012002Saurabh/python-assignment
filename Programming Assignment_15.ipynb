{
 "cells": [
  {
   "cell_type": "markdown",
   "id": "7df6e6a0",
   "metadata": {},
   "source": [
    "## Python Basic Programming Assignment - 15\n",
    "-------------------"
   ]
  },
  {
   "cell_type": "markdown",
   "id": "de299c62",
   "metadata": {},
   "source": [
    "### 1. Please write a program using generator to print the numbers which can be divisible by 5 and 7 between 0 and n in comma separated form while n is input by console."
   ]
  },
  {
   "cell_type": "code",
   "execution_count": 2,
   "id": "341db655-f69c-43d5-9815-8c98e40f9ba7",
   "metadata": {},
   "outputs": [
    {
     "name": "stdin",
     "output_type": "stream",
     "text": [
      "Enter the value of n:  35\n"
     ]
    },
    {
     "name": "stdout",
     "output_type": "stream",
     "text": [
      "Numbers divisible by 5 and 7 between 0 and 35 : 0,35\n"
     ]
    }
   ],
   "source": [
    "def generate_numbers(n):\n",
    "    for num in range(n + 1):\n",
    "        if num % 5 == 0 and num % 7 == 0:\n",
    "            yield num\n",
    "\n",
    "# Take input for n\n",
    "n = int(input(\"Enter the value of n: \"))\n",
    "\n",
    "# Generate numbers using the generator\n",
    "result_numbers = generate_numbers(n)\n",
    "\n",
    "# Display the numbers in comma-separated form\n",
    "print(\"Numbers divisible by 5 and 7 between 0 and\", n, \":\", \",\".join(map(str, result_numbers)))\n"
   ]
  },
  {
   "cell_type": "markdown",
   "id": "c04aab80",
   "metadata": {},
   "source": [
    "\n",
    "### 2. Please write a program using generator to print the even numbers between 0 and n in comma separated form while n is input by console."
   ]
  },
  {
   "cell_type": "code",
   "execution_count": 3,
   "id": "987506f4-d0f7-44c9-b1ba-ce858b3e551e",
   "metadata": {},
   "outputs": [
    {
     "name": "stdin",
     "output_type": "stream",
     "text": [
      "Enter the value of n:  5\n"
     ]
    },
    {
     "name": "stdout",
     "output_type": "stream",
     "text": [
      "Even numbers between 0 and 5 : 0,2,4\n"
     ]
    }
   ],
   "source": [
    "def generate_even_numbers(n):\n",
    "    for num in range(0, n + 1, 2):\n",
    "        yield num\n",
    "\n",
    "# Take input for n\n",
    "n = int(input(\"Enter the value of n: \"))\n",
    "\n",
    "# Generate even numbers using the generator\n",
    "result_numbers = generate_even_numbers(n)\n",
    "\n",
    "# Display the even numbers in comma-separated form\n",
    "print(\"Even numbers between 0 and\", n, \":\", \",\".join(map(str, result_numbers)))\n"
   ]
  },
  {
   "cell_type": "markdown",
   "id": "35b72559",
   "metadata": {},
   "source": [
    "### 3. Please write a program using list comprehension to print the Fibonacci Sequence in comma separated form with a given n input by console."
   ]
  },
  {
   "cell_type": "code",
   "execution_count": null,
   "id": "7f3e5134-053f-4561-a35a-ab8f5b84a258",
   "metadata": {},
   "outputs": [],
   "source": [
    "def generate_fibonacci_sequence(n):\n",
    "    fibonacci_sequence = [0, 1] + [fibonacci_sequence[i-1] + fibonacci_sequence[i-2] for i in range(2, n)]\n",
    "    return fibonacci_sequence\n",
    "\n",
    "# Take input for n\n",
    "n = int(input(\"Enter the value of n for Fibonacci Sequence: \"))\n",
    "\n",
    "# Generate Fibonacci Sequence using list comprehension\n",
    "result_sequence = generate_fibonacci_sequence(n)\n",
    "\n",
    "# Display the Fibonacci Sequence in comma-separated form\n",
    "print(\"Fibonacci Sequence up to\", n, \"terms:\", \",\".join(map(str, result_sequence)))\n"
   ]
  },
  {
   "cell_type": "markdown",
   "id": "dea0be0f",
   "metadata": {},
   "source": [
    "\n",
    "### 4. Assuming that we have some email addresses in the \"username@companyname.com\" format, please write program to print the user name of a given email address. Both user names and company names are composed of letters only."
   ]
  },
  {
   "cell_type": "code",
   "execution_count": 10,
   "id": "c534b59f-2fd4-4182-89dd-f6528bfd35be",
   "metadata": {},
   "outputs": [
    {
     "name": "stdin",
     "output_type": "stream",
     "text": [
      "Enter the email address:  saurabh876500@gmail.com\n"
     ]
    },
    {
     "name": "stdout",
     "output_type": "stream",
     "text": [
      "Username: Invalid email format\n"
     ]
    }
   ],
   "source": [
    "def extract_username(email):\n",
    "    # Split the email address using \"@\" as the delimiter\n",
    "    parts = email.split(\"@\")\n",
    "\n",
    "    # Check if the email has the correct format\n",
    "    if len(parts) == 2 and parts[0].isalpha() and parts[1].isalpha():\n",
    "        return parts[0]\n",
    "    else:\n",
    "        return \"Invalid email format\"\n",
    "\n",
    "# Example usage\n",
    "email_address = input(\"Enter the email address: \")\n",
    "\n",
    "# Extract and print the username\n",
    "username = extract_username(email_address)\n",
    "print(\"Username:\", username)\n"
   ]
  },
  {
   "cell_type": "markdown",
   "id": "2834c88f",
   "metadata": {},
   "source": [
    "\n",
    "### 5. Define a class named Shape and its subclass Square. The Square class has an init function which takes a length as argument. Both classes have a area function which can print the area of the shape where Shape's area is 0 by default."
   ]
  },
  {
   "cell_type": "code",
   "execution_count": 11,
   "id": "d3ad1aa6-893c-48f1-b40d-ff55cdd68699",
   "metadata": {},
   "outputs": [
    {
     "name": "stdout",
     "output_type": "stream",
     "text": [
      "Area of Shape: 0\n",
      "Area of Square: 25\n"
     ]
    }
   ],
   "source": [
    "class Shape:\n",
    "    def __init__(self):\n",
    "        pass\n",
    "\n",
    "    def area(self):\n",
    "        return 0\n",
    "\n",
    "class Square(Shape):\n",
    "    def __init__(self, length):\n",
    "        super().__init__()\n",
    "        self.length = length\n",
    "\n",
    "    def area(self):\n",
    "        return self.length * self.length\n",
    "\n",
    "# Example usage\n",
    "shape_instance = Shape()\n",
    "square_instance = Square(5)\n",
    "\n",
    "# Display area for Shape\n",
    "print(\"Area of Shape:\", shape_instance.area())\n",
    "\n",
    "# Display area for Square\n",
    "print(\"Area of Square:\", square_instance.area())\n"
   ]
  },
  {
   "cell_type": "code",
   "execution_count": null,
   "id": "2e1d8ace-c5b8-458d-90d6-348c243ceee5",
   "metadata": {},
   "outputs": [],
   "source": []
  }
 ],
 "metadata": {
  "kernelspec": {
   "display_name": "Python 3 (ipykernel)",
   "language": "python",
   "name": "python3"
  },
  "language_info": {
   "codemirror_mode": {
    "name": "ipython",
    "version": 3
   },
   "file_extension": ".py",
   "mimetype": "text/x-python",
   "name": "python",
   "nbconvert_exporter": "python",
   "pygments_lexer": "ipython3",
   "version": "3.11.5"
  }
 },
 "nbformat": 4,
 "nbformat_minor": 5
}
