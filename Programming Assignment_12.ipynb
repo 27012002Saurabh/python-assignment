{
 "cells": [
  {
   "cell_type": "markdown",
   "id": "b7231b20",
   "metadata": {},
   "source": [
    "# Python Basic Programming Assignment 12\n",
    "-------------"
   ]
  },
  {
   "cell_type": "markdown",
   "id": "d2ec324d",
   "metadata": {},
   "source": [
    "### 1. Write a Python program to Extract Unique values dictionary values?"
   ]
  },
  {
   "cell_type": "code",
   "execution_count": 1,
   "id": "be1e9c88-f98e-4a85-8d70-e72ec3baafe6",
   "metadata": {},
   "outputs": [
    {
     "name": "stdout",
     "output_type": "stream",
     "text": [
      "Original Dictionary: {'key1': [1, 2, 3], 'key2': [2, 3, 4], 'key3': [3, 4, 5]}\n",
      "Unique Values: [1, 2, 3, 4, 5]\n"
     ]
    }
   ],
   "source": [
    "def extract_unique_values(input_dict):\n",
    "    unique_values = set()\n",
    "\n",
    "    for values_list in input_dict.values():\n",
    "        unique_values.update(values_list)\n",
    "\n",
    "    return list(unique_values)\n",
    "\n",
    "# Example dictionary\n",
    "my_dict = {\n",
    "    'key1': [1, 2, 3],\n",
    "    'key2': [2, 3, 4],\n",
    "    'key3': [3, 4, 5]\n",
    "}\n",
    "\n",
    "# Call the function to extract unique values\n",
    "result_unique_values = extract_unique_values(my_dict)\n",
    "\n",
    "# Display the result\n",
    "print(f\"Original Dictionary: {my_dict}\")\n",
    "print(f\"Unique Values: {result_unique_values}\")\n"
   ]
  },
  {
   "cell_type": "markdown",
   "id": "203bcbc3",
   "metadata": {},
   "source": [
    "### 2. Write a Python program to find the sum of all items in a dictionary?"
   ]
  },
  {
   "cell_type": "code",
   "execution_count": 2,
   "id": "04e05d42-0a89-4a12-afcd-47ae65fd6b83",
   "metadata": {},
   "outputs": [
    {
     "name": "stdout",
     "output_type": "stream",
     "text": [
      "The sum of all items in the dictionary {'a': 10, 'b': 20, 'c': 30} is: 60\n"
     ]
    }
   ],
   "source": [
    "def sum_of_dictionary_items(input_dict):\n",
    "    # Use the built-in sum() function to calculate the sum of values\n",
    "    total_sum = sum(input_dict.values())\n",
    "    return total_sum\n",
    "\n",
    "# Example dictionary\n",
    "my_dict = {'a': 10, 'b': 20, 'c': 30}\n",
    "\n",
    "# Call the function to find the sum of dictionary items\n",
    "result_sum = sum_of_dictionary_items(my_dict)\n",
    "\n",
    "# Display the result\n",
    "print(f\"The sum of all items in the dictionary {my_dict} is: {result_sum}\")\n"
   ]
  },
  {
   "cell_type": "markdown",
   "id": "edfbc682",
   "metadata": {},
   "source": [
    "### 3. Write a Python program to Merging two Dictionaries?"
   ]
  },
  {
   "cell_type": "code",
   "execution_count": 3,
   "id": "9d14271c-f955-4ece-a074-73854b8aaf15",
   "metadata": {},
   "outputs": [
    {
     "name": "stdout",
     "output_type": "stream",
     "text": [
      "Original Dictionary 1: {'a': 10, 'b': 20}\n",
      "Original Dictionary 2: {'b': 30, 'c': 40}\n",
      "Merged Dictionary: {'a': 10, 'b': 30, 'c': 40}\n"
     ]
    }
   ],
   "source": [
    "def merge_two_dicts(dict1, dict2):\n",
    "    merged_dict = dict1.copy()\n",
    "    merged_dict.update(dict2)\n",
    "    return merged_dict\n",
    "\n",
    "# Example dictionaries\n",
    "dict1 = {'a': 10, 'b': 20}\n",
    "dict2 = {'b': 30, 'c': 40}\n",
    "\n",
    "# Call the function to merge the dictionaries\n",
    "result_merged_dict = merge_two_dicts(dict1, dict2)\n",
    "\n",
    "# Display the result\n",
    "print(f\"Original Dictionary 1: {dict1}\")\n",
    "print(f\"Original Dictionary 2: {dict2}\")\n",
    "print(f\"Merged Dictionary: {result_merged_dict}\")\n"
   ]
  },
  {
   "cell_type": "markdown",
   "id": "62eaf687",
   "metadata": {},
   "source": [
    "### 4. Write a Python program to convert key-values list to flat dictionary?"
   ]
  },
  {
   "cell_type": "code",
   "execution_count": 4,
   "id": "52dc47aa-d333-4697-80b1-7987e080f834",
   "metadata": {},
   "outputs": [
    {
     "name": "stdout",
     "output_type": "stream",
     "text": [
      "Original Key-Values List: [('a', 10), ('b', 20), ('c', 30)]\n",
      "Flat Dictionary: {'a': 10, 'b': 20, 'c': 30}\n"
     ]
    }
   ],
   "source": [
    "def convert_to_flat_dictionary(key_value_list):\n",
    "    flat_dict = dict(key_value_list)\n",
    "    return flat_dict\n",
    "\n",
    "# Example key-values list\n",
    "key_value_list = [('a', 10), ('b', 20), ('c', 30)]\n",
    "\n",
    "# Call the function to convert to a flat dictionary\n",
    "result_flat_dict = convert_to_flat_dictionary(key_value_list)\n",
    "\n",
    "# Display the result\n",
    "print(f\"Original Key-Values List: {key_value_list}\")\n",
    "print(f\"Flat Dictionary: {result_flat_dict}\")\n"
   ]
  },
  {
   "cell_type": "markdown",
   "id": "fcc5015f",
   "metadata": {},
   "source": [
    "### 5. Write a Python program to insertion at the beginning in OrderedDict?"
   ]
  },
  {
   "cell_type": "code",
   "execution_count": 5,
   "id": "486254b9-a428-4ccd-85af-80edd548d824",
   "metadata": {},
   "outputs": [
    {
     "name": "stdout",
     "output_type": "stream",
     "text": [
      "Original OrderedDict: OrderedDict([('b', 2), ('c', 3)])\n",
      "OrderedDict after insertion at the beginning: OrderedDict([('a', 1), ('b', 2), ('c', 3)])\n"
     ]
    }
   ],
   "source": [
    "from collections import OrderedDict\n",
    "\n",
    "def insert_at_beginning(ordered_dict, key, value):\n",
    "    # Create a new OrderedDict with the new key-value pair and update the existing OrderedDict\n",
    "    updated_dict = OrderedDict([(key, value)])\n",
    "    updated_dict.update(ordered_dict)\n",
    "    return updated_dict\n",
    "\n",
    "# Example OrderedDict\n",
    "original_ordered_dict = OrderedDict([('b', 2), ('c', 3)])\n",
    "\n",
    "# Key and value to insert at the beginning\n",
    "new_key = 'a'\n",
    "new_value = 1\n",
    "\n",
    "# Call the function to insert at the beginning\n",
    "result_ordered_dict = insert_at_beginning(original_ordered_dict, new_key, new_value)\n",
    "\n",
    "# Display the result\n",
    "print(f\"Original OrderedDict: {original_ordered_dict}\")\n",
    "print(f\"OrderedDict after insertion at the beginning: {result_ordered_dict}\")\n"
   ]
  },
  {
   "cell_type": "markdown",
   "id": "5978c9ab",
   "metadata": {},
   "source": [
    "### 6. Write a Python program to check order of character in string using OrderedDict()?"
   ]
  },
  {
   "cell_type": "code",
   "execution_count": 6,
   "id": "6699bf66-2657-492c-986f-16a3e97d082b",
   "metadata": {},
   "outputs": [
    {
     "name": "stdout",
     "output_type": "stream",
     "text": [
      "The characters in the pattern 'hlo' appear in order in the string 'hello world'.\n"
     ]
    }
   ],
   "source": [
    "from collections import OrderedDict\n",
    "\n",
    "def check_order_of_characters(input_string, pattern):\n",
    "    # Create an OrderedDict to maintain the order of characters in the input string\n",
    "    ordered_dict = OrderedDict.fromkeys(input_string)\n",
    "\n",
    "    # Iterate through the ordered_dict to check the order of characters\n",
    "    index = 0\n",
    "    for char in ordered_dict:\n",
    "        if index < len(pattern) and char == pattern[index]:\n",
    "            index += 1\n",
    "\n",
    "    # Check if the pattern is present in the correct order\n",
    "    return index == len(pattern)\n",
    "\n",
    "# Example string and pattern\n",
    "my_string = \"hello world\"\n",
    "my_pattern = \"hlo\"\n",
    "\n",
    "# Call the function to check the order of characters\n",
    "result_order_check = check_order_of_characters(my_string, my_pattern)\n",
    "\n",
    "# Display the result\n",
    "if result_order_check:\n",
    "    print(f\"The characters in the pattern '{my_pattern}' appear in order in the string '{my_string}'.\")\n",
    "else:\n",
    "    print(f\"The characters in the pattern '{my_pattern}' do not appear in order in the string '{my_string}'.\")\n"
   ]
  },
  {
   "cell_type": "markdown",
   "id": "f330da77",
   "metadata": {},
   "source": [
    "### 7. Write a Python program to sort Python Dictionaries by Key or Value?"
   ]
  },
  {
   "cell_type": "code",
   "execution_count": 7,
   "id": "71905ad9-74d7-4dae-9599-644a318365b1",
   "metadata": {},
   "outputs": [
    {
     "name": "stdout",
     "output_type": "stream",
     "text": [
      "Sorted by Key: {'apple': 1, 'banana': 3, 'grape': 4, 'orange': 2}\n",
      "Sorted by Value: {'apple': 1, 'orange': 2, 'banana': 3, 'grape': 4}\n"
     ]
    }
   ],
   "source": [
    "# Function to sort dictionary by key\n",
    "def sort_dict_by_key(input_dict):\n",
    "    return dict(sorted(input_dict.items()))\n",
    "\n",
    "# Function to sort dictionary by value\n",
    "def sort_dict_by_value(input_dict):\n",
    "    return dict(sorted(input_dict.items(), key=lambda x: x[1]))\n",
    "\n",
    "# Example dictionary\n",
    "my_dict = {'banana': 3, 'apple': 1, 'orange': 2, 'grape': 4}\n",
    "\n",
    "# Sort by key\n",
    "sorted_dict_by_key = sort_dict_by_key(my_dict)\n",
    "print(\"Sorted by Key:\", sorted_dict_by_key)\n",
    "\n",
    "# Sort by value\n",
    "sorted_dict_by_value = sort_dict_by_value(my_dict)\n",
    "print(\"Sorted by Value:\", sorted_dict_by_value)\n"
   ]
  },
  {
   "cell_type": "code",
   "execution_count": null,
   "id": "6567378f-ed42-4918-80c1-650c84a656f0",
   "metadata": {},
   "outputs": [],
   "source": []
  }
 ],
 "metadata": {
  "kernelspec": {
   "display_name": "Python 3 (ipykernel)",
   "language": "python",
   "name": "python3"
  },
  "language_info": {
   "codemirror_mode": {
    "name": "ipython",
    "version": 3
   },
   "file_extension": ".py",
   "mimetype": "text/x-python",
   "name": "python",
   "nbconvert_exporter": "python",
   "pygments_lexer": "ipython3",
   "version": "3.11.5"
  }
 },
 "nbformat": 4,
 "nbformat_minor": 5
}
