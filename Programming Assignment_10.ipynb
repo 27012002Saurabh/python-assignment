{
 "cells": [
  {
   "cell_type": "markdown",
   "id": "3dcb940f",
   "metadata": {},
   "source": [
    "## Python Basic Programming Assignment 10"
   ]
  },
  {
   "cell_type": "markdown",
   "id": "6720790a",
   "metadata": {},
   "source": [
    "### 1. Write a Python program to find sum of elements in list?"
   ]
  },
  {
   "cell_type": "code",
   "execution_count": 1,
   "id": "d222e243-98a1-498b-8234-37cddca1c663",
   "metadata": {},
   "outputs": [
    {
     "name": "stdout",
     "output_type": "stream",
     "text": [
      "The sum of elements in the list [1, 2, 3, 4, 5] is: 15\n"
     ]
    }
   ],
   "source": [
    "def find_sum_of_elements(input_list):\n",
    "    # Use the built-in sum() function to calculate the sum of elements\n",
    "    sum_of_elements = sum(input_list)\n",
    "    return sum_of_elements\n",
    "\n",
    "# Example list\n",
    "my_list = [1, 2, 3, 4, 5]\n",
    "\n",
    "# Call the function to find the sum of elements\n",
    "result_sum = find_sum_of_elements(my_list)\n",
    "\n",
    "# Display the result\n",
    "print(f\"The sum of elements in the list {my_list} is: {result_sum}\")\n"
   ]
  },
  {
   "cell_type": "markdown",
   "id": "fe1137c3",
   "metadata": {},
   "source": [
    "### 2. Write a Python program to  Multiply all numbers in the list?"
   ]
  },
  {
   "cell_type": "code",
   "execution_count": 2,
   "id": "728f5ff9-8d56-49dd-b97e-4648e40be33d",
   "metadata": {},
   "outputs": [
    {
     "name": "stdout",
     "output_type": "stream",
     "text": [
      "The product of all elements in the list [1, 2, 3, 4, 5] is: 120\n"
     ]
    }
   ],
   "source": [
    "def multiply_all_elements(input_list):\n",
    "    # Initialize the product to 1\n",
    "    product = 1\n",
    "    \n",
    "    # Multiply each element in the list\n",
    "    for element in input_list:\n",
    "        product *= element\n",
    "    \n",
    "    return product\n",
    "\n",
    "# Example list\n",
    "my_list = [1, 2, 3, 4, 5]\n",
    "\n",
    "# Call the function to multiply all elements\n",
    "result_product = multiply_all_elements(my_list)\n",
    "\n",
    "# Display the result\n",
    "print(f\"The product of all elements in the list {my_list} is: {result_product}\")\n"
   ]
  },
  {
   "cell_type": "markdown",
   "id": "078681db",
   "metadata": {},
   "source": [
    "### 3. Write a Python program to find smallest number in a list?"
   ]
  },
  {
   "cell_type": "code",
   "execution_count": 3,
   "id": "47754727-548e-4fd5-b3b1-dd0af0e92877",
   "metadata": {},
   "outputs": [
    {
     "name": "stdout",
     "output_type": "stream",
     "text": [
      "The smallest number in the list [10, 5, 8, 3, 15] is: 3\n"
     ]
    }
   ],
   "source": [
    "def find_smallest_number(input_list):\n",
    "    # Use the built-in min() function to find the smallest number\n",
    "    smallest_number = min(input_list)\n",
    "    return smallest_number\n",
    "\n",
    "# Example list\n",
    "my_list = [10, 5, 8, 3, 15]\n",
    "\n",
    "# Call the function to find the smallest number\n",
    "result_smallest = find_smallest_number(my_list)\n",
    "\n",
    "# Display the result\n",
    "print(f\"The smallest number in the list {my_list} is: {result_smallest}\")\n"
   ]
  },
  {
   "cell_type": "markdown",
   "id": "12b04397",
   "metadata": {},
   "source": [
    "### 4. Write a Python program to find largest number in a list?"
   ]
  },
  {
   "cell_type": "code",
   "execution_count": 4,
   "id": "3325fef0-ca08-4ce4-8c64-572ab3e73a0d",
   "metadata": {},
   "outputs": [
    {
     "name": "stdout",
     "output_type": "stream",
     "text": [
      "The largest number in the list [10, 5, 8, 3, 15] is: 15\n"
     ]
    }
   ],
   "source": [
    "def find_largest_number(input_list):\n",
    "    # Use the built-in max() function to find the largest number\n",
    "    largest_number = max(input_list)\n",
    "    return largest_number\n",
    "\n",
    "# Example list\n",
    "my_list = [10, 5, 8, 3, 15]\n",
    "\n",
    "# Call the function to find the largest number\n",
    "result_largest = find_largest_number(my_list)\n",
    "\n",
    "# Display the result\n",
    "print(f\"The largest number in the list {my_list} is: {result_largest}\")\n"
   ]
  },
  {
   "cell_type": "markdown",
   "id": "86442b51",
   "metadata": {},
   "source": [
    "### 5. Write a Python program to find second largest number in a list?"
   ]
  },
  {
   "cell_type": "code",
   "execution_count": 5,
   "id": "4885d8fc-5963-4559-a5f4-0a8b0b765a07",
   "metadata": {},
   "outputs": [
    {
     "name": "stdout",
     "output_type": "stream",
     "text": [
      "The second largest number in the list [10, 5, 8, 3, 15, 8] is: 10\n"
     ]
    }
   ],
   "source": [
    "def find_second_largest_number(input_list):\n",
    "    # Make a copy of the list and remove the largest element\n",
    "    unique_numbers = list(set(input_list))\n",
    "    unique_numbers.remove(max(unique_numbers))\n",
    "\n",
    "    # Check if the modified list is empty or not\n",
    "    if unique_numbers:\n",
    "        second_largest_number = max(unique_numbers)\n",
    "        return second_largest_number\n",
    "    else:\n",
    "        return None  # No second largest number if the list has fewer than two unique elements\n",
    "\n",
    "# Example list\n",
    "my_list = [10, 5, 8, 3, 15, 8]\n",
    "\n",
    "# Call the function to find the second largest number\n",
    "result_second_largest = find_second_largest_number(my_list)\n",
    "\n",
    "# Display the result\n",
    "if result_second_largest is not None:\n",
    "    print(f\"The second largest number in the list {my_list} is: {result_second_largest}\")\n",
    "else:\n",
    "    print(\"The list does not have a second largest number.\")\n"
   ]
  },
  {
   "cell_type": "markdown",
   "id": "10964d7d",
   "metadata": {},
   "source": [
    "### 6. Write a Python program to find N largest elements from a list?"
   ]
  },
  {
   "cell_type": "code",
   "execution_count": 6,
   "id": "274c6c34-786b-4330-a736-bf3445a321fc",
   "metadata": {},
   "outputs": [
    {
     "name": "stdout",
     "output_type": "stream",
     "text": [
      "The 3 largest elements in the list [10, 5, 8, 3, 15, 8] are: [15, 10, 8]\n"
     ]
    }
   ],
   "source": [
    "def find_n_largest_elements(input_list, n):\n",
    "    # Make a copy of the list and remove duplicates\n",
    "    unique_numbers = list(set(input_list))\n",
    "    \n",
    "    # Check if the list has enough unique elements\n",
    "    if len(unique_numbers) < n:\n",
    "        return None  # Not enough unique elements to find N largest\n",
    "    \n",
    "    # Sort the unique numbers in descending order\n",
    "    sorted_numbers = sorted(unique_numbers, reverse=True)\n",
    "    \n",
    "    # Extract the first N elements\n",
    "    n_largest_elements = sorted_numbers[:n]\n",
    "    \n",
    "    return n_largest_elements\n",
    "\n",
    "# Example list\n",
    "my_list = [10, 5, 8, 3, 15, 8]\n",
    "\n",
    "# Number of largest elements to find\n",
    "n = 3\n",
    "\n",
    "# Call the function to find the N largest elements\n",
    "result_n_largest = find_n_largest_elements(my_list, n)\n",
    "\n",
    "# Display the result\n",
    "if result_n_largest is not None:\n",
    "    print(f\"The {n} largest elements in the list {my_list} are: {result_n_largest}\")\n",
    "else:\n",
    "    print(f\"The list does not have enough unique elements to find {n} largest.\")\n"
   ]
  },
  {
   "cell_type": "markdown",
   "id": "2f1a1e98",
   "metadata": {},
   "source": [
    "### 7. Write a Python program to print even numbers in a list?"
   ]
  },
  {
   "cell_type": "code",
   "execution_count": 7,
   "id": "dc12c5aa-4fe3-4e58-bbf7-85335bd4e96f",
   "metadata": {},
   "outputs": [
    {
     "name": "stdout",
     "output_type": "stream",
     "text": [
      "The even numbers in the list [1, 2, 3, 4, 5, 6, 7, 8, 9, 10] are: [2, 4, 6, 8, 10]\n"
     ]
    }
   ],
   "source": [
    "def print_even_numbers(input_list):\n",
    "    even_numbers = [num for num in input_list if num % 2 == 0]\n",
    "    return even_numbers\n",
    "\n",
    "# Example list\n",
    "my_list = [1, 2, 3, 4, 5, 6, 7, 8, 9, 10]\n",
    "\n",
    "# Call the function to print even numbers\n",
    "result_even_numbers = print_even_numbers(my_list)\n",
    "\n",
    "# Display the result\n",
    "print(f\"The even numbers in the list {my_list} are: {result_even_numbers}\")\n"
   ]
  },
  {
   "cell_type": "markdown",
   "id": "989bb324",
   "metadata": {},
   "source": [
    "### 8. Write a Python program to print odd numbers in a List?"
   ]
  },
  {
   "cell_type": "code",
   "execution_count": 8,
   "id": "ede90eb9-e765-42e9-99db-9e512af736e1",
   "metadata": {},
   "outputs": [
    {
     "name": "stdout",
     "output_type": "stream",
     "text": [
      "The odd numbers in the list [1, 2, 3, 4, 5, 6, 7, 8, 9, 10] are: [1, 3, 5, 7, 9]\n"
     ]
    }
   ],
   "source": [
    "def print_odd_numbers(input_list):\n",
    "    odd_numbers = [num for num in input_list if num % 2 != 0]\n",
    "    return odd_numbers\n",
    "\n",
    "# Example list\n",
    "my_list = [1, 2, 3, 4, 5, 6, 7, 8, 9, 10]\n",
    "\n",
    "# Call the function to print odd numbers\n",
    "result_odd_numbers = print_odd_numbers(my_list)\n",
    "\n",
    "# Display the result\n",
    "print(f\"The odd numbers in the list {my_list} are: {result_odd_numbers}\")\n"
   ]
  },
  {
   "cell_type": "markdown",
   "id": "185b7b13",
   "metadata": {},
   "source": [
    "### 9. Write a Python program to Remove empty List from List?"
   ]
  },
  {
   "cell_type": "code",
   "execution_count": 9,
   "id": "7f39305d-0c5f-44ff-b5a9-06a1138e0792",
   "metadata": {},
   "outputs": [
    {
     "name": "stdout",
     "output_type": "stream",
     "text": [
      "The list with empty lists removed: [1, 2, 3, 4, 5, 6]\n"
     ]
    }
   ],
   "source": [
    "def remove_empty_lists(input_list):\n",
    "    non_empty_lists = [sublist for sublist in input_list if sublist]\n",
    "    return non_empty_lists\n",
    "\n",
    "# Example list with empty lists\n",
    "my_list = [1, 2, [], 3, [], [], 4, 5, [], 6, []]\n",
    "\n",
    "# Call the function to remove empty lists\n",
    "result_non_empty_lists = remove_empty_lists(my_list)\n",
    "\n",
    "# Display the result\n",
    "print(f\"The list with empty lists removed: {result_non_empty_lists}\")\n"
   ]
  },
  {
   "cell_type": "markdown",
   "id": "278cfacc",
   "metadata": {},
   "source": [
    "### 10. Write a Python program to Cloning or Copying a list?"
   ]
  },
  {
   "cell_type": "code",
   "execution_count": 11,
   "id": "99894ac3-1224-4149-a468-4271a72c755c",
   "metadata": {},
   "outputs": [
    {
     "name": "stdout",
     "output_type": "stream",
     "text": [
      "Original List: [1, 2, 3, 4, 5]\n",
      "Cloned List: [1, 2, 3, 4, 5]\n"
     ]
    }
   ],
   "source": [
    "def clone_list(original_list):\n",
    "    cloned_list = original_list[:]\n",
    "    return cloned_list\n",
    "\n",
    "# Example list\n",
    "my_list = [1, 2, 3, 4, 5]\n",
    "\n",
    "# Call the function to clone the list\n",
    "cloned_result = clone_list(my_list)\n",
    "\n",
    "# Display the result\n",
    "print(\"Original List:\", my_list)\n",
    "print(\"Cloned List:\", cloned_result)\n",
    "\n",
    "import copy\n",
    "\n",
    "def clone_list(original_list):\n",
    "    cloned_list = copy.deepcopy(original_list)\n",
    "    return cloned_list\n",
    "\n"
   ]
  },
  {
   "cell_type": "markdown",
   "id": "b359bedf",
   "metadata": {},
   "source": [
    "### 11. Write a Python program to Count occurrences of an element in a list?"
   ]
  },
  {
   "cell_type": "code",
   "execution_count": 12,
   "id": "8e8850d6-25e4-4878-8480-e331726d830c",
   "metadata": {},
   "outputs": [
    {
     "name": "stdout",
     "output_type": "stream",
     "text": [
      "The element 2 occurs 4 times in the list.\n"
     ]
    }
   ],
   "source": [
    "def count_occurrences(input_list, element):\n",
    "    occurrences = input_list.count(element)\n",
    "    return occurrences\n",
    "\n",
    "# Example list\n",
    "my_list = [1, 2, 3, 4, 2, 5, 2, 6, 2, 7]\n",
    "\n",
    "# Element to count\n",
    "element_to_count = 2\n",
    "\n",
    "# Call the function to count occurrences\n",
    "result_occurrences = count_occurrences(my_list, element_to_count)\n",
    "\n",
    "# Display the result\n",
    "print(f\"The element {element_to_count} occurs {result_occurrences} times in the list.\")\n"
   ]
  },
  {
   "cell_type": "code",
   "execution_count": null,
   "id": "23086037-42ce-4fa9-8ddb-c2a2ed580699",
   "metadata": {},
   "outputs": [],
   "source": []
  }
 ],
 "metadata": {
  "kernelspec": {
   "display_name": "Python 3 (ipykernel)",
   "language": "python",
   "name": "python3"
  },
  "language_info": {
   "codemirror_mode": {
    "name": "ipython",
    "version": 3
   },
   "file_extension": ".py",
   "mimetype": "text/x-python",
   "name": "python",
   "nbconvert_exporter": "python",
   "pygments_lexer": "ipython3",
   "version": "3.11.5"
  }
 },
 "nbformat": 4,
 "nbformat_minor": 5
}
