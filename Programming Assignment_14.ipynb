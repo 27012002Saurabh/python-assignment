{
 "cells": [
  {
   "cell_type": "markdown",
   "id": "9bf47949",
   "metadata": {},
   "source": [
    "## Python Basic Programming Assignment - 14\n",
    "---------------------"
   ]
  },
  {
   "cell_type": "markdown",
   "id": "a8074819",
   "metadata": {},
   "source": [
    "### 1. Define a class with a generator which can iterate the numbers, which are divisible by 7, between a given range 0 and n."
   ]
  },
  {
   "cell_type": "code",
   "execution_count": 1,
   "id": "9b2c1852-b078-4ebe-9745-68674e6e51ae",
   "metadata": {},
   "outputs": [
    {
     "name": "stdin",
     "output_type": "stream",
     "text": [
      "Enter the value of n:  14\n"
     ]
    },
    {
     "name": "stdout",
     "output_type": "stream",
     "text": [
      "Numbers divisible by 7 between 0 and 14:\n",
      "0\n",
      "7\n",
      "14\n"
     ]
    }
   ],
   "source": [
    "class DivisibleBySevenGenerator:\n",
    "    def __init__(self, n):\n",
    "        self.n = n\n",
    "\n",
    "    def generate_numbers(self):\n",
    "        for num in range(self.n + 1):\n",
    "            if num % 7 == 0:\n",
    "                yield num\n",
    "\n",
    "# Take input for the range (n)\n",
    "n = int(input(\"Enter the value of n: \"))\n",
    "\n",
    "# Create an instance of the class\n",
    "generator_instance = DivisibleBySevenGenerator(n)\n",
    "\n",
    "# Use the generator to iterate numbers divisible by 7\n",
    "print(f\"Numbers divisible by 7 between 0 and {n}:\")\n",
    "for number in generator_instance.generate_numbers():\n",
    "    print(number)\n"
   ]
  },
  {
   "cell_type": "markdown",
   "id": "8127371b",
   "metadata": {},
   "source": [
    "\n",
    "### 2. Write a program to compute the frequency of the words from the input. The output should output after sorting the key alphanumerically."
   ]
  },
  {
   "cell_type": "code",
   "execution_count": 2,
   "id": "e0116b9c-3ff4-419c-a44e-f1b4f517cbf9",
   "metadata": {},
   "outputs": [
    {
     "name": "stdin",
     "output_type": "stream",
     "text": [
      "Enter a sentence:  Saurabh\n"
     ]
    },
    {
     "name": "stdout",
     "output_type": "stream",
     "text": [
      "Word frequencies (sorted alphanumerically):\n",
      "Saurabh: 1\n"
     ]
    }
   ],
   "source": [
    "# Take input for a sentence\n",
    "input_sentence = input(\"Enter a sentence: \")\n",
    "\n",
    "# Split the input sentence into words\n",
    "words = input_sentence.split()\n",
    "\n",
    "# Create a dictionary to store the frequency of each word\n",
    "word_frequency = {}\n",
    "for word in words:\n",
    "    word_frequency[word] = word_frequency.get(word, 0) + 1\n",
    "\n",
    "# Sort the keys alphanumerically\n",
    "sorted_words = sorted(word_frequency.keys())\n",
    "\n",
    "# Display the sorted frequency\n",
    "print(\"Word frequencies (sorted alphanumerically):\")\n",
    "for word in sorted_words:\n",
    "    print(f\"{word}: {word_frequency[word]}\")\n"
   ]
  },
  {
   "cell_type": "markdown",
   "id": "4e869c3c",
   "metadata": {},
   "source": [
    "\n",
    "### 3. Define a class Person and its two child classes: Male and Female. All classes have a method \"getGender\" which can print \"Male\" for Male class and \"Female\" for Female class."
   ]
  },
  {
   "cell_type": "code",
   "execution_count": 3,
   "id": "e77d6a30-08f1-4e2e-9cbe-a8a07cf672de",
   "metadata": {},
   "outputs": [
    {
     "name": "stdout",
     "output_type": "stream",
     "text": [
      "John is Male\n",
      "Jane is Female\n"
     ]
    }
   ],
   "source": [
    "class Person:\n",
    "    def __init__(self, name):\n",
    "        self.name = name\n",
    "\n",
    "    def getGender(self):\n",
    "        pass  # To be overridden by child classes\n",
    "\n",
    "class Male(Person):\n",
    "    def getGender(self):\n",
    "        return \"Male\"\n",
    "\n",
    "class Female(Person):\n",
    "    def getGender(self):\n",
    "        return \"Female\"\n",
    "\n",
    "# Example usage\n",
    "male_person = Male(\"John\")\n",
    "female_person = Female(\"Jane\")\n",
    "\n",
    "print(f\"{male_person.name} is {male_person.getGender()}\")\n",
    "print(f\"{female_person.name} is {female_person.getGender()}\")\n"
   ]
  },
  {
   "cell_type": "markdown",
   "id": "58b5940f",
   "metadata": {},
   "source": [
    "\n",
    "### 4. Please write a program to generate all sentences where subject is in [\"I\", \"You\"] and verb is in ['Play', \"Love\"] and the object is in [\"Hockey\",\"Football\"]."
   ]
  },
  {
   "cell_type": "code",
   "execution_count": 4,
   "id": "c5a94e1d-6a55-4248-aa2b-9296e38a92d8",
   "metadata": {},
   "outputs": [
    {
     "name": "stdout",
     "output_type": "stream",
     "text": [
      "Generated Sentences:\n",
      "I Play Hockey\n",
      "I Play Football\n",
      "I Love Hockey\n",
      "I Love Football\n",
      "You Play Hockey\n",
      "You Play Football\n",
      "You Love Hockey\n",
      "You Love Football\n"
     ]
    }
   ],
   "source": [
    "subjects = [\"I\", \"You\"]\n",
    "verbs = [\"Play\", \"Love\"]\n",
    "objects = [\"Hockey\", \"Football\"]\n",
    "\n",
    "# Generate all sentences\n",
    "sentences = [(subject, verb, obj) for subject in subjects for verb in verbs for obj in objects]\n",
    "\n",
    "# Print the generated sentences\n",
    "print(\"Generated Sentences:\")\n",
    "for sentence in sentences:\n",
    "    print(f\"{sentence[0]} {sentence[1]} {sentence[2]}\")\n"
   ]
  },
  {
   "cell_type": "markdown",
   "id": "0ddf4f59",
   "metadata": {},
   "source": [
    "\n",
    "### 5. Please write a program to compress and decompress the string \"hello world!hello world!hello world!hello world!\""
   ]
  },
  {
   "cell_type": "code",
   "execution_count": 5,
   "id": "dd0e7848-a4fa-4bce-8bce-0dbbfb8e8cd2",
   "metadata": {},
   "outputs": [
    {
     "name": "stdout",
     "output_type": "stream",
     "text": [
      "Compressed Data: b'x\\x9c\\xcbH\\xcd\\xc9\\xc9W(\\xcf/\\xcaIQ\\xcc \\x82\\r\\x00\\xbd[\\x11\\xf5'\n",
      "Decompressed String: hello world!hello world!hello world!hello world!\n"
     ]
    }
   ],
   "source": [
    "import zlib\n",
    "\n",
    "def compress_string(input_string):\n",
    "    compressed_data = zlib.compress(input_string.encode('utf-8'))\n",
    "    return compressed_data\n",
    "\n",
    "def decompress_string(compressed_data):\n",
    "    decompressed_data = zlib.decompress(compressed_data).decode('utf-8')\n",
    "    return decompressed_data\n",
    "\n",
    "# Example string\n",
    "input_string = \"hello world!hello world!hello world!hello world!\"\n",
    "\n",
    "# Compress the string\n",
    "compressed_data = compress_string(input_string)\n",
    "print(\"Compressed Data:\", compressed_data)\n",
    "\n",
    "# Decompress the data\n",
    "decompressed_string = decompress_string(compressed_data)\n",
    "print(\"Decompressed String:\", decompressed_string)\n"
   ]
  },
  {
   "cell_type": "markdown",
   "id": "2aeb595b",
   "metadata": {},
   "source": [
    "\n",
    "### 6. Please write a binary search function which searches an item in a sorted list. The function should return the index of element to be searched in the list."
   ]
  },
  {
   "cell_type": "code",
   "execution_count": 6,
   "id": "74325a27-71e7-48ed-8de1-66ec64a2b1b3",
   "metadata": {},
   "outputs": [
    {
     "name": "stdout",
     "output_type": "stream",
     "text": [
      "Element 7 found at index 6.\n"
     ]
    }
   ],
   "source": [
    "def binary_search(sorted_list, target):\n",
    "    left, right = 0, len(sorted_list) - 1\n",
    "\n",
    "    while left <= right:\n",
    "        mid = (left + right) // 2\n",
    "        mid_value = sorted_list[mid]\n",
    "\n",
    "        if mid_value == target:\n",
    "            return mid  # Element found, return its index\n",
    "        elif mid_value < target:\n",
    "            left = mid + 1  # Search in the right half\n",
    "        else:\n",
    "            right = mid - 1  # Search in the left half\n",
    "\n",
    "    return -1  # Element not found in the list\n",
    "\n",
    "# Example usage\n",
    "sorted_list = [1, 2, 3, 4, 5, 6, 7, 8, 9, 10]\n",
    "target_element = 7\n",
    "\n",
    "result_index = binary_search(sorted_list, target_element)\n",
    "\n",
    "if result_index != -1:\n",
    "    print(f\"Element {target_element} found at index {result_index}.\")\n",
    "else:\n",
    "    print(f\"Element {target_element} not found in the list.\")\n"
   ]
  },
  {
   "cell_type": "code",
   "execution_count": null,
   "id": "34c4e5f8-883e-41dc-83b5-a1bb690cc8ae",
   "metadata": {},
   "outputs": [],
   "source": []
  }
 ],
 "metadata": {
  "kernelspec": {
   "display_name": "Python 3 (ipykernel)",
   "language": "python",
   "name": "python3"
  },
  "language_info": {
   "codemirror_mode": {
    "name": "ipython",
    "version": 3
   },
   "file_extension": ".py",
   "mimetype": "text/x-python",
   "name": "python",
   "nbconvert_exporter": "python",
   "pygments_lexer": "ipython3",
   "version": "3.11.5"
  }
 },
 "nbformat": 4,
 "nbformat_minor": 5
}
