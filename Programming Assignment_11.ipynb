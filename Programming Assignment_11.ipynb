{
 "cells": [
  {
   "cell_type": "markdown",
   "id": "53c7e882",
   "metadata": {},
   "source": [
    "# Python Basic Programming Assignment 11\n",
    "--------------------"
   ]
  },
  {
   "cell_type": "markdown",
   "id": "051da140",
   "metadata": {},
   "source": [
    "### 1. Write a Python program to find words which are greater than given length k?"
   ]
  },
  {
   "cell_type": "code",
   "execution_count": 1,
   "id": "4f80708e-e897-4085-944e-1cc70796f1c4",
   "metadata": {},
   "outputs": [
    {
     "name": "stdout",
     "output_type": "stream",
     "text": [
      "Words greater than length 5: ['banana', 'orange', 'strawberry']\n"
     ]
    }
   ],
   "source": [
    "def find_words_greater_than_length(words_list, k):\n",
    "    result_words = [word for word in words_list if len(word) > k]\n",
    "    return result_words\n",
    "\n",
    "# Example list of words\n",
    "words_list = [\"apple\", \"banana\", \"orange\", \"grape\", \"kiwi\", \"strawberry\"]\n",
    "\n",
    "# Length threshold\n",
    "k = 5\n",
    "\n",
    "# Call the function to find words greater than length k\n",
    "result_greater_than_k = find_words_greater_than_length(words_list, k)\n",
    "\n",
    "# Display the result\n",
    "print(f\"Words greater than length {k}: {result_greater_than_k}\")\n"
   ]
  },
  {
   "cell_type": "markdown",
   "id": "26719cbd",
   "metadata": {},
   "source": [
    "### 2. Write a Python program for removing i-th character from a string?"
   ]
  },
  {
   "cell_type": "code",
   "execution_count": 2,
   "id": "e9815e34-2aa7-44c1-adf8-9a4c9edd7c97",
   "metadata": {},
   "outputs": [
    {
     "name": "stdout",
     "output_type": "stream",
     "text": [
      "Original String: Python\n",
      "String after removing character at index 2: Pyhon\n"
     ]
    }
   ],
   "source": [
    "def remove_ith_character(input_string, i):\n",
    "    if 0 <= i < len(input_string):\n",
    "        result_string = input_string[:i] + input_string[i+1:]\n",
    "        return result_string\n",
    "    else:\n",
    "        return \"Invalid index. Please provide a valid index within the string length.\"\n",
    "\n",
    "# Example string\n",
    "my_string = \"Python\"\n",
    "\n",
    "# Index of the character to remove\n",
    "index_to_remove = 2\n",
    "\n",
    "# Call the function to remove the i-th character\n",
    "result_removed_character = remove_ith_character(my_string, index_to_remove)\n",
    "\n",
    "# Display the result\n",
    "print(f\"Original String: {my_string}\")\n",
    "print(f\"String after removing character at index {index_to_remove}: {result_removed_character}\")\n"
   ]
  },
  {
   "cell_type": "markdown",
   "id": "51ae6b0f",
   "metadata": {},
   "source": [
    "### 3. Write a Python program to split and join a string?"
   ]
  },
  {
   "cell_type": "code",
   "execution_count": 3,
   "id": "4274e310-3365-4bcb-9d75-68d37fc1c7c6",
   "metadata": {},
   "outputs": [
    {
     "name": "stdout",
     "output_type": "stream",
     "text": [
      "Original String: This is a sample string for splitting and joining.\n",
      "List of Words: ['This', 'is', 'a', 'sample', 'string', 'for', 'splitting', 'and', 'joining.']\n",
      "Joined String: This is a sample string for splitting and joining.\n"
     ]
    }
   ],
   "source": [
    "def split_and_join(input_string):\n",
    "    # Split the string into a list of words\n",
    "    words_list = input_string.split()\n",
    "\n",
    "    # Join the list of words into a new string using a space as a separator\n",
    "    result_string = ' '.join(words_list)\n",
    "\n",
    "    return words_list, result_string\n",
    "\n",
    "# Example string\n",
    "original_string = \"This is a sample string for splitting and joining.\"\n",
    "\n",
    "# Call the function to split and join the string\n",
    "result_words_list, result_joined_string = split_and_join(original_string)\n",
    "\n",
    "# Display the result\n",
    "print(\"Original String:\", original_string)\n",
    "print(\"List of Words:\", result_words_list)\n",
    "print(\"Joined String:\", result_joined_string)\n"
   ]
  },
  {
   "cell_type": "markdown",
   "id": "59079fe1",
   "metadata": {},
   "source": [
    "### 4. Write a Python to check if a given string is binary string or not?"
   ]
  },
  {
   "cell_type": "code",
   "execution_count": 4,
   "id": "cf5eaca7-81e0-40bd-8c5a-7000fc837002",
   "metadata": {},
   "outputs": [
    {
     "name": "stdout",
     "output_type": "stream",
     "text": [
      "The string '1010101101' is a binary string.\n"
     ]
    }
   ],
   "source": [
    "def is_binary_string(input_string):\n",
    "    # Set of valid binary digits\n",
    "    valid_binary_digits = {'0', '1'}\n",
    "\n",
    "    # Check if all characters in the string are valid binary digits\n",
    "    return all(char in valid_binary_digits for char in input_string)\n",
    "\n",
    "# Example string\n",
    "binary_string = \"1010101101\"\n",
    "\n",
    "# Call the function to check if the string is a binary string\n",
    "result = is_binary_string(binary_string)\n",
    "\n",
    "# Display the result\n",
    "if result:\n",
    "    print(f\"The string '{binary_string}' is a binary string.\")\n",
    "else:\n",
    "    print(f\"The string '{binary_string}' is not a binary string.\")\n"
   ]
  },
  {
   "cell_type": "markdown",
   "id": "4d6cf11a",
   "metadata": {},
   "source": [
    "### 5. Write a Python program to find uncommon words from two Strings?"
   ]
  },
  {
   "cell_type": "code",
   "execution_count": 5,
   "id": "e05d1d68-26ac-45e2-81ef-12e1985547b4",
   "metadata": {},
   "outputs": [
    {
     "name": "stdout",
     "output_type": "stream",
     "text": [
      "Uncommon words between the two strings:\n",
      "{'different', 'This', 'string.', 'is', 'string', 'a', 'words.', 'Another', 'with'}\n"
     ]
    }
   ],
   "source": [
    "def find_uncommon_words(string1, string2):\n",
    "    words1 = set(string1.split())\n",
    "    words2 = set(string2.split())\n",
    "\n",
    "    uncommon_words = words1.symmetric_difference(words2)\n",
    "    \n",
    "    return uncommon_words\n",
    "\n",
    "# Example strings\n",
    "string1 = \"This is a sample string.\"\n",
    "string2 = \"Another sample string with different words.\"\n",
    "\n",
    "# Call the function to find uncommon words\n",
    "result_uncommon_words = find_uncommon_words(string1, string2)\n",
    "\n",
    "# Display the result\n",
    "print(f\"Uncommon words between the two strings:\")\n",
    "print(result_uncommon_words)\n"
   ]
  },
  {
   "cell_type": "markdown",
   "id": "e2b24677",
   "metadata": {},
   "source": [
    "### 6. Write a Python to find all duplicate characters in string?"
   ]
  },
  {
   "cell_type": "code",
   "execution_count": 7,
   "id": "c8a31faa-8748-4bcb-ace0-1b52b641dbec",
   "metadata": {},
   "outputs": [
    {
     "name": "stdout",
     "output_type": "stream",
     "text": [
      "Original String: programming\n",
      "Duplicate Characters: ['r', 'g', 'm']\n"
     ]
    }
   ],
   "source": [
    "def find_duplicate_characters(input_string):\n",
    "    char_count = {}\n",
    "    duplicates = []\n",
    "\n",
    "    for char in input_string:\n",
    "        if char in char_count:\n",
    "            char_count[char] += 1\n",
    "        else:\n",
    "            char_count[char] = 1\n",
    "\n",
    "    for char, count in char_count.items():\n",
    "        if count > 1:\n",
    "            duplicates.append(char)\n",
    "\n",
    "    return duplicates\n",
    "\n",
    "# Example string\n",
    "my_string = \"programming\"\n",
    "\n",
    "# Call the function to find duplicate characters\n",
    "result_duplicates = find_duplicate_characters(my_string)\n",
    "\n",
    "# Display the result\n",
    "print(f\"Original String: {my_string}\")\n",
    "print(f\"Duplicate Characters: {result_duplicates}\")\n"
   ]
  },
  {
   "cell_type": "markdown",
   "id": "1a6af7e4",
   "metadata": {},
   "source": [
    "### 7. Write a Python Program to check if a string contains any special character?"
   ]
  },
  {
   "cell_type": "code",
   "execution_count": 8,
   "id": "74ef8600-6a54-4b2e-8718-4cf438627711",
   "metadata": {},
   "outputs": [
    {
     "name": "stdout",
     "output_type": "stream",
     "text": [
      "The string 'Hello! How are you?' contains special characters.\n"
     ]
    }
   ],
   "source": [
    "import string\n",
    "\n",
    "def contains_special_character(input_string):\n",
    "    special_characters = set(string.punctuation)\n",
    "    \n",
    "    for char in input_string:\n",
    "        if char in special_characters:\n",
    "            return True\n",
    "    \n",
    "    return False\n",
    "\n",
    "# Example string\n",
    "my_string = \"Hello! How are you?\"\n",
    "\n",
    "# Call the function to check if the string contains any special character\n",
    "result_contains_special = contains_special_character(my_string)\n",
    "\n",
    "# Display the result\n",
    "if result_contains_special:\n",
    "    print(f\"The string '{my_string}' contains special characters.\")\n",
    "else:\n",
    "    print(f\"The string '{my_string}' does not contain any special characters.\")\n"
   ]
  },
  {
   "cell_type": "code",
   "execution_count": null,
   "id": "8840fb63-38b1-4a95-bd09-bf47b647e4e5",
   "metadata": {},
   "outputs": [],
   "source": []
  }
 ],
 "metadata": {
  "kernelspec": {
   "display_name": "Python 3 (ipykernel)",
   "language": "python",
   "name": "python3"
  },
  "language_info": {
   "codemirror_mode": {
    "name": "ipython",
    "version": 3
   },
   "file_extension": ".py",
   "mimetype": "text/x-python",
   "name": "python",
   "nbconvert_exporter": "python",
   "pygments_lexer": "ipython3",
   "version": "3.11.5"
  }
 },
 "nbformat": 4,
 "nbformat_minor": 5
}
