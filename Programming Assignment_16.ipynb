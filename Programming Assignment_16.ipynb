{
 "cells": [
  {
   "cell_type": "markdown",
   "id": "e304dc88",
   "metadata": {},
   "source": [
    "## Python Basic Programming Assignment 16\n",
    "---------------------"
   ]
  },
  {
   "cell_type": "markdown",
   "id": "d82eeee0",
   "metadata": {},
   "source": [
    "### 1. Write a function that stutters a word as if someone is struggling to read it. The first two letters are repeated twice with an ellipsis ... and space after each, and then the word is pronounced with a question mark ?. Examples stutter('incredible') ➞ 'in... in... incredible?' stutter('enthusiastic') ➞ 'en... en... enthusiastic?' stutter('outstanding') ➞ 'ou... ou... outstanding?'\n",
    "\n",
    "### Hint :- Assume all input is in lower case and at least two characters long."
   ]
  },
  {
   "cell_type": "code",
   "execution_count": 1,
   "id": "148c9597-6fa5-4b22-a99c-c6e2d309dbd7",
   "metadata": {},
   "outputs": [
    {
     "name": "stdout",
     "output_type": "stream",
     "text": [
      "in... in... incredible?\n",
      "en... en... enthusiastic?\n",
      "ou... ou... outstanding?\n"
     ]
    }
   ],
   "source": [
    "def stutter(word):\n",
    "    stuttered_word = f\"{word[:2]}... {word[:2]}... {word}?\"\n",
    "    return stuttered_word\n",
    "\n",
    "# Examples\n",
    "print(stutter('incredible'))     # Output: 'in... in... incredible?'\n",
    "print(stutter('enthusiastic'))   # Output: 'en... en... enthusiastic?'\n",
    "print(stutter('outstanding'))    # Output: 'ou... ou... outstanding?'\n"
   ]
  },
  {
   "cell_type": "markdown",
   "id": "47e1bd41",
   "metadata": {},
   "source": [
    "\n",
    "### 2. Create a function that takes an angle in radians and returns the corresponding angle in degrees rounded to one decimal place."
   ]
  },
  {
   "cell_type": "code",
   "execution_count": 3,
   "id": "fff09323-2b64-4eb3-94c8-9ed2a28d8c63",
   "metadata": {},
   "outputs": [
    {
     "name": "stdin",
     "output_type": "stream",
     "text": [
      "Enter an angle in radians:  2\n"
     ]
    },
    {
     "name": "stdout",
     "output_type": "stream",
     "text": [
      "The angle in degrees is: 114.6 degrees\n"
     ]
    }
   ],
   "source": [
    "import math\n",
    "\n",
    "def radians_to_degrees(angle_in_radians):\n",
    "    angle_in_degrees = math.degrees(angle_in_radians)\n",
    "    rounded_angle = round(angle_in_degrees, 1)\n",
    "    return rounded_angle\n",
    "\n",
    "# Example\n",
    "angle_in_radians = float(input(\"Enter an angle in radians: \"))\n",
    "angle_in_degrees = radians_to_degrees(angle_in_radians)\n",
    "print(f\"The angle in degrees is: {angle_in_degrees} degrees\")\n"
   ]
  },
  {
   "cell_type": "markdown",
   "id": "07cad4d9",
   "metadata": {},
   "source": [
    "\n",
    "### 3. In this challenge, establish if a given integer num is a Curzon number. If 1 plus 2 elevated to num is exactly divisible by 1 plus 2 multiplied by num, then num is a Curzon number. Given a non-negative integer num, implement a function that returns True if num is a Curzon number, or False otherwise."
   ]
  },
  {
   "cell_type": "code",
   "execution_count": 4,
   "id": "a869f48e-b1e7-411c-a2e4-494fe487c693",
   "metadata": {},
   "outputs": [
    {
     "name": "stdout",
     "output_type": "stream",
     "text": [
      "True\n",
      "False\n"
     ]
    }
   ],
   "source": [
    "def is_curzon_number(num):\n",
    "    numerator = 2 ** num + 1\n",
    "    denominator = 2 * num + 1\n",
    "\n",
    "    return numerator % denominator == 0\n",
    "\n",
    "# Examples\n",
    "print(is_curzon_number(5))  # Output: True (2^5 + 1 = 33, 2*5 + 1 = 11, 33 is divisible by 11)\n",
    "print(is_curzon_number(10)) # Output: False (2^10 + 1 = 1025, 2*10 + 1 = 21, 1025 is not divisible by 21)\n"
   ]
  },
  {
   "cell_type": "markdown",
   "id": "cfad2cfc",
   "metadata": {},
   "source": [
    "\n",
    "### 4. Given the side length x find the area of a hexagon."
   ]
  },
  {
   "cell_type": "code",
   "execution_count": 5,
   "id": "2cda5b55-9d67-456e-8e71-7eaf1ccf1626",
   "metadata": {},
   "outputs": [
    {
     "name": "stdin",
     "output_type": "stream",
     "text": [
      "Enter the side length of the hexagon:  5\n"
     ]
    },
    {
     "name": "stdout",
     "output_type": "stream",
     "text": [
      "The area of the hexagon with side length 5.0 is: 64.9519052838329\n"
     ]
    }
   ],
   "source": [
    "import math\n",
    "\n",
    "def hexagon_area(side_length):\n",
    "    area = (3 * math.sqrt(3) / 2) * side_length**2\n",
    "    return area\n",
    "\n",
    "# Example\n",
    "side_length = float(input(\"Enter the side length of the hexagon: \"))\n",
    "area_of_hexagon = hexagon_area(side_length)\n",
    "print(f\"The area of the hexagon with side length {side_length} is: {area_of_hexagon}\")\n"
   ]
  },
  {
   "cell_type": "markdown",
   "id": "dbc79e02",
   "metadata": {},
   "source": [
    "\n",
    "### 5. Create a function that returns a base-2 (binary) representation of a base-10 (decimal) string number. To convert is simple: ((2) means base-2 and (10) means base-10) 010101001(2) = 1 + 8 + 32 + 128."
   ]
  },
  {
   "cell_type": "code",
   "execution_count": 7,
   "id": "9e736c62-afc0-47bf-be38-d486ba3d4b56",
   "metadata": {},
   "outputs": [
    {
     "name": "stdin",
     "output_type": "stream",
     "text": [
      "Enter a decimal number:  5\n"
     ]
    },
    {
     "name": "stdout",
     "output_type": "stream",
     "text": [
      "The binary representation of 5 is: 101\n"
     ]
    }
   ],
   "source": [
    "def decimal_to_binary(decimal_str):\n",
    "    decimal_number = int(decimal_str)\n",
    "    binary_representation = bin(decimal_number)[2:]\n",
    "    return binary_representation\n",
    "\n",
    "# Example\n",
    "decimal_number_str = input(\"Enter a decimal number: \")\n",
    "binary_representation = decimal_to_binary(decimal_number_str)\n",
    "print(f\"The binary representation of {decimal_number_str} is: {binary_representation}\")\n"
   ]
  },
  {
   "cell_type": "code",
   "execution_count": null,
   "id": "2b59be80-d488-45ed-8404-f3d935664530",
   "metadata": {},
   "outputs": [],
   "source": []
  }
 ],
 "metadata": {
  "kernelspec": {
   "display_name": "Python 3 (ipykernel)",
   "language": "python",
   "name": "python3"
  },
  "language_info": {
   "codemirror_mode": {
    "name": "ipython",
    "version": 3
   },
   "file_extension": ".py",
   "mimetype": "text/x-python",
   "name": "python",
   "nbconvert_exporter": "python",
   "pygments_lexer": "ipython3",
   "version": "3.11.5"
  }
 },
 "nbformat": 4,
 "nbformat_minor": 5
}
