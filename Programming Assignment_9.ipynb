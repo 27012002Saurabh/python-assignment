{
 "cells": [
  {
   "cell_type": "markdown",
   "id": "47b9bb99",
   "metadata": {},
   "source": [
    "## Programming Assignment_9\n",
    "----------------"
   ]
  },
  {
   "cell_type": "markdown",
   "id": "c725f7a9",
   "metadata": {},
   "source": [
    "### 1. Write a Python program to check if the given number is a Disarium Number?"
   ]
  },
  {
   "cell_type": "code",
   "execution_count": 1,
   "id": "5e1f4097-5e15-4bf4-9d6a-9f9de73a56b1",
   "metadata": {},
   "outputs": [
    {
     "name": "stdout",
     "output_type": "stream",
     "text": [
      "89 is a Disarium number.\n"
     ]
    }
   ],
   "source": [
    "def is_disarium_number(number):\n",
    "    # Convert the number to a string to iterate through its digits\n",
    "    str_number = str(number)\n",
    "    \n",
    "    # Calculate the sum of digits each raised to the power of its respective position\n",
    "    sum_of_powers = sum(int(digit) ** (index + 1) for index, digit in enumerate(str_number))\n",
    "    \n",
    "    # Check if the sum equals the original number\n",
    "    return sum_of_powers == number\n",
    "\n",
    "# Example\n",
    "input_number = 89\n",
    "\n",
    "# Check if the number is a Disarium number\n",
    "if is_disarium_number(input_number):\n",
    "    print(f\"{input_number} is a Disarium number.\")\n",
    "else:\n",
    "    print(f\"{input_number} is not a Disarium number.\")\n"
   ]
  },
  {
   "cell_type": "markdown",
   "id": "f0064401",
   "metadata": {},
   "source": [
    "### 2. Write a Python program to print all disarium numbers between 1 to 100?"
   ]
  },
  {
   "cell_type": "code",
   "execution_count": 2,
   "id": "f0c67b38-b3bd-4e09-8f9a-b68327f595d4",
   "metadata": {},
   "outputs": [
    {
     "name": "stdout",
     "output_type": "stream",
     "text": [
      "Disarium numbers between 1 and 100:\n",
      "1\n",
      "2\n",
      "3\n",
      "4\n",
      "5\n",
      "6\n",
      "7\n",
      "8\n",
      "9\n",
      "89\n"
     ]
    }
   ],
   "source": [
    "def is_disarium_number(number):\n",
    "    str_number = str(number)\n",
    "    sum_of_powers = sum(int(digit) ** (index + 1) for index, digit in enumerate(str_number))\n",
    "    return sum_of_powers == number\n",
    "\n",
    "# Find and print Disarium numbers between 1 and 100\n",
    "print(\"Disarium numbers between 1 and 100:\")\n",
    "for num in range(1, 101):\n",
    "    if is_disarium_number(num):\n",
    "        print(num)\n"
   ]
  },
  {
   "cell_type": "markdown",
   "id": "31df1e4a",
   "metadata": {},
   "source": [
    "### 3. Write a Python program to check if the given number is Happy Number?"
   ]
  },
  {
   "cell_type": "code",
   "execution_count": 3,
   "id": "21f8f54a-307b-4abe-8838-9fc3dabd7967",
   "metadata": {},
   "outputs": [
    {
     "name": "stdout",
     "output_type": "stream",
     "text": [
      "19 is a Happy Number.\n"
     ]
    }
   ],
   "source": [
    "def is_happy_number(number):\n",
    "    seen_numbers = set()\n",
    "    while number != 1 and number not in seen_numbers:\n",
    "        seen_numbers.add(number)\n",
    "        number = sum(int(digit) ** 2 for digit in str(number))\n",
    "    return number == 1\n",
    "\n",
    "# Example\n",
    "input_number = 19\n",
    "\n",
    "# Check if the number is a happy number\n",
    "if is_happy_number(input_number):\n",
    "    print(f\"{input_number} is a Happy Number.\")\n",
    "else:\n",
    "    print(f\"{input_number} is not a Happy Number.\")\n"
   ]
  },
  {
   "cell_type": "markdown",
   "id": "51b265e3",
   "metadata": {},
   "source": [
    "### 4. Write a Python program to print all happy numbers between 1 and 100?"
   ]
  },
  {
   "cell_type": "code",
   "execution_count": 4,
   "id": "dad9d630-0fd1-40ec-8740-d7038e2c1d52",
   "metadata": {},
   "outputs": [
    {
     "name": "stdout",
     "output_type": "stream",
     "text": [
      "Happy numbers between 1 and 100:\n",
      "1\n",
      "7\n",
      "10\n",
      "13\n",
      "19\n",
      "23\n",
      "28\n",
      "31\n",
      "32\n",
      "44\n",
      "49\n",
      "68\n",
      "70\n",
      "79\n",
      "82\n",
      "86\n",
      "91\n",
      "94\n",
      "97\n",
      "100\n"
     ]
    }
   ],
   "source": [
    "def is_happy_number(number):\n",
    "    seen_numbers = set()\n",
    "    while number != 1 and number not in seen_numbers:\n",
    "        seen_numbers.add(number)\n",
    "        number = sum(int(digit) ** 2 for digit in str(number))\n",
    "    return number == 1\n",
    "\n",
    "# Find and print happy numbers between 1 and 100\n",
    "print(\"Happy numbers between 1 and 100:\")\n",
    "for num in range(1, 101):\n",
    "    if is_happy_number(num):\n",
    "        print(num)\n"
   ]
  },
  {
   "cell_type": "markdown",
   "id": "6a190ee0",
   "metadata": {},
   "source": [
    "### 5. Write a Python program to determine whether the given number is a Harshad Number?"
   ]
  },
  {
   "cell_type": "code",
   "execution_count": 5,
   "id": "51108dfa-7104-45f4-9ec7-21dae3817dd7",
   "metadata": {},
   "outputs": [
    {
     "name": "stdout",
     "output_type": "stream",
     "text": [
      "18 is a Harshad Number.\n"
     ]
    }
   ],
   "source": [
    "def is_harshad_number(number):\n",
    "    # Calculate the sum of digits\n",
    "    sum_of_digits = sum(int(digit) for digit in str(number))\n",
    "    \n",
    "    # Check if the number is divisible by the sum of its digits\n",
    "    return number % sum_of_digits == 0\n",
    "\n",
    "# Example\n",
    "input_number = 18\n",
    "\n",
    "# Check if the number is a Harshad Number\n",
    "if is_harshad_number(input_number):\n",
    "    print(f\"{input_number} is a Harshad Number.\")\n",
    "else:\n",
    "    print(f\"{input_number} is not a Harshad Number.\")\n"
   ]
  },
  {
   "cell_type": "markdown",
   "id": "7a7ea92e",
   "metadata": {},
   "source": [
    "### 6. Write a Python program to print all pronic numbers between 1 and 100?"
   ]
  },
  {
   "cell_type": "code",
   "execution_count": 6,
   "id": "6f9b4ad4-83c8-4327-b9a5-e50e6319d01e",
   "metadata": {},
   "outputs": [
    {
     "name": "stdout",
     "output_type": "stream",
     "text": [
      "Pronic numbers between 1 and 100:\n",
      "2\n",
      "6\n",
      "12\n",
      "20\n",
      "30\n",
      "42\n",
      "56\n",
      "72\n",
      "90\n"
     ]
    }
   ],
   "source": [
    "def is_pronic_number(number):\n",
    "    # Iterate through possible values of n\n",
    "    for n in range(int(number**0.5) + 1):\n",
    "        # Check if number is a product of n and (n+1)\n",
    "        if n * (n + 1) == number:\n",
    "            return True\n",
    "    return False\n",
    "\n",
    "# Find and print pronic numbers between 1 and 100\n",
    "print(\"Pronic numbers between 1 and 100:\")\n",
    "for num in range(1, 101):\n",
    "    if is_pronic_number(num):\n",
    "        print(num)\n"
   ]
  },
  {
   "cell_type": "code",
   "execution_count": null,
   "id": "738bbe41-d209-426f-b5f0-ace536d13ff5",
   "metadata": {},
   "outputs": [],
   "source": []
  }
 ],
 "metadata": {
  "kernelspec": {
   "display_name": "Python 3 (ipykernel)",
   "language": "python",
   "name": "python3"
  },
  "language_info": {
   "codemirror_mode": {
    "name": "ipython",
    "version": 3
   },
   "file_extension": ".py",
   "mimetype": "text/x-python",
   "name": "python",
   "nbconvert_exporter": "python",
   "pygments_lexer": "ipython3",
   "version": "3.11.5"
  }
 },
 "nbformat": 4,
 "nbformat_minor": 5
}
