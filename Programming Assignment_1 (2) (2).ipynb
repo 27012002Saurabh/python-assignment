{
 "cells": [
  {
   "cell_type": "markdown",
   "id": "637b47a5",
   "metadata": {},
   "source": [
    "## Programming Assignment_1\n",
    "-------------"
   ]
  },
  {
   "cell_type": "markdown",
   "id": "0c647dbe",
   "metadata": {},
   "source": [
    "### 1. Write a Python program to print \"Hello Python\"?"
   ]
  },
  {
   "cell_type": "code",
   "execution_count": 1,
   "id": "8a30eec0-3839-4da7-b267-68a944a9c7db",
   "metadata": {},
   "outputs": [
    {
     "name": "stdout",
     "output_type": "stream",
     "text": [
      "Hello Python\n"
     ]
    }
   ],
   "source": [
    "print('Hello Python')"
   ]
  },
  {
   "cell_type": "markdown",
   "id": "fc18a6cd",
   "metadata": {},
   "source": [
    "### 2. Write a Python program to do arithmetical operations addition and division.?\n"
   ]
  },
  {
   "cell_type": "code",
   "execution_count": 12,
   "id": "f26b5406-c7ea-4156-abf2-6c300abb4d2b",
   "metadata": {},
   "outputs": [
    {
     "name": "stdin",
     "output_type": "stream",
     "text": [
      "Enter first number : 5\n",
      "Enter second number : 10\n"
     ]
    },
    {
     "name": "stdout",
     "output_type": "stream",
     "text": [
      "sum 15.0\n",
      "division 0.5\n"
     ]
    }
   ],
   "source": [
    "def add_and_divide(number1,number2):\n",
    "    sum_result = number1 + number2\n",
    "    if number2 != 0 :\n",
    "        division_result = number1 / number2\n",
    "        return sum_result, division_result\n",
    "    else:\n",
    "        return (\"Division can not be zero\")\n",
    "\n",
    "num1 = float(input(\"Enter first number :\"))\n",
    "num2 = float(input(\"Enter second number :\"))\n",
    "\n",
    "result = add_and_divide(num1,num2)\n",
    "\n",
    "if isinstance(result,tuple):\n",
    "    sum_result, division_result = result\n",
    "    print(f\"sum {sum_result}\")\n",
    "    print(f\"division {division_result}\")\n",
    "else:\n",
    "    print(result)\n",
    "\n",
    "\n",
    "        \n"
   ]
  },
  {
   "cell_type": "markdown",
   "id": "af6e2429",
   "metadata": {},
   "source": [
    "### 3. Write a Python program to find the area of a triangle?\n"
   ]
  },
  {
   "cell_type": "code",
   "execution_count": 6,
   "id": "42414f34-4d25-4e62-8c2c-7ad073994e17",
   "metadata": {},
   "outputs": [
    {
     "name": "stdin",
     "output_type": "stream",
     "text": [
      "Enter the base of the triangle : 20\n",
      "Enter the height of the triangle : 10\n"
     ]
    },
    {
     "name": "stdout",
     "output_type": "stream",
     "text": [
      "The area of the triangle with base 20.0 and height 10.0 is : 100.0\n"
     ]
    }
   ],
   "source": [
    "def calculate_triangle_area(base,height):\n",
    "    area = 0.5* base * height\n",
    "    return area\n",
    "\n",
    "base = float(input(\"Enter the base of the triangle :\"))\n",
    "height =  float(input(\"Enter the height of the triangle :\"))\n",
    "\n",
    "triangle_area = calculate_triangle_area(base,height)\n",
    "print(f\"The area of the triangle with base {base} and height {height} is : {triangle_area}\")"
   ]
  },
  {
   "cell_type": "markdown",
   "id": "b8140061",
   "metadata": {},
   "source": [
    "### 4. Write a Python program to swap two variables?\n"
   ]
  },
  {
   "cell_type": "code",
   "execution_count": 8,
   "id": "61131846-08c4-4f48-9318-9b5d1327e773",
   "metadata": {},
   "outputs": [
    {
     "name": "stdin",
     "output_type": "stream",
     "text": [
      "Enter the value of the first variable : 5\n",
      "Enter the value of the second variable :  6\n"
     ]
    },
    {
     "name": "stdout",
     "output_type": "stream",
     "text": [
      "swaping before variable1 5, variable2 6\n",
      "swaping after variable1 6 , variable2 5\n"
     ]
    }
   ],
   "source": [
    "def swap_variables(var1,var2):\n",
    "    temp = var1\n",
    "    var1 = var2\n",
    "    var2 = temp\n",
    "    return var1, var2\n",
    "\n",
    "variable1 = input(\"Enter the value of the first variable :\")\n",
    "variable2 = input(\"Enter the value of the second variable : \")\n",
    "\n",
    "print(f\"swaping before variable1 {variable1}, variable2 {variable2}\") \n",
    "\n",
    "# swaping the variable\n",
    "variable1,variable2 = swap_variables(variable1,variable2)\n",
    "\n",
    "print(f\"swaping after variable1 {variable1} , variable2 {variable2}\")\n",
    "\n"
   ]
  },
  {
   "cell_type": "markdown",
   "id": "3f8054c1",
   "metadata": {},
   "source": [
    "### 5. Write a Python program to generate a random number?\n"
   ]
  },
  {
   "cell_type": "code",
   "execution_count": 10,
   "id": "375d04b9-052b-49f9-bb50-575ff975b301",
   "metadata": {},
   "outputs": [
    {
     "name": "stdin",
     "output_type": "stream",
     "text": [
      "Enter start of the range :  1\n",
      "Enter end of the range : 100\n"
     ]
    },
    {
     "name": "stdout",
     "output_type": "stream",
     "text": [
      "Random number between 1 and 100 : 70\n"
     ]
    }
   ],
   "source": [
    "import random\n",
    "\n",
    "def generate_random_number(start,end):\n",
    "    return random.randint(start,end)\n",
    "\n",
    "start_range = int(input(\"Enter start of the range : \"))\n",
    "end_range = int(input(\"Enter end of the range :\"))\n",
    "\n",
    "random_number = generate_random_number(start_range,end_range)\n",
    "\n",
    "print(f\"Random number between {start_range} and {end_range} : {random_number}\")"
   ]
  },
  {
   "cell_type": "code",
   "execution_count": null,
   "id": "221fe6e6-2ef1-48b5-a62d-aa697ebb68b7",
   "metadata": {},
   "outputs": [],
   "source": []
  }
 ],
 "metadata": {
  "kernelspec": {
   "display_name": "Python 3 (ipykernel)",
   "language": "python",
   "name": "python3"
  },
  "language_info": {
   "codemirror_mode": {
    "name": "ipython",
    "version": 3
   },
   "file_extension": ".py",
   "mimetype": "text/x-python",
   "name": "python",
   "nbconvert_exporter": "python",
   "pygments_lexer": "ipython3",
   "version": "3.11.5"
  }
 },
 "nbformat": 4,
 "nbformat_minor": 5
}
