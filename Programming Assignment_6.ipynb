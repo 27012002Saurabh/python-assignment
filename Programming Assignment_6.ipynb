{
 "cells": [
  {
   "cell_type": "markdown",
   "id": "84a41a9f",
   "metadata": {},
   "source": [
    "# Programming Basic Assignment 6"
   ]
  },
  {
   "cell_type": "markdown",
   "id": "a4b40558",
   "metadata": {},
   "source": [
    "### 1. Write a Python Program to Display Fibonacci Sequence Using Recursion?"
   ]
  },
  {
   "cell_type": "code",
   "execution_count": 1,
   "id": "6bc09dce-e8fe-46c5-a1b8-b54a4c2e6541",
   "metadata": {},
   "outputs": [
    {
     "name": "stdout",
     "output_type": "stream",
     "text": [
      "Fibonacci Sequence:\n",
      "0 1 1 2 3 5 8 13 21 34 "
     ]
    }
   ],
   "source": [
    "def fibonacci(n):\n",
    "    if n <= 1:\n",
    "        return n\n",
    "    else:\n",
    "        return fibonacci(n-1) + fibonacci(n-2)\n",
    "\n",
    "def display_fibonacci_sequence(count):\n",
    "    if count <= 0:\n",
    "        print(\"Please enter a positive integer.\")\n",
    "    else:\n",
    "        print(\"Fibonacci Sequence:\")\n",
    "        for i in range(count):\n",
    "            print(fibonacci(i), end=\" \")\n",
    "\n",
    "# Example: Displaying the first 10 Fibonacci numbers\n",
    "display_fibonacci_sequence(10)\n"
   ]
  },
  {
   "cell_type": "markdown",
   "id": "d7a57f60",
   "metadata": {},
   "source": [
    "### 2. Write a Python Program to Find Factorial of Number Using Recursion?"
   ]
  },
  {
   "cell_type": "code",
   "execution_count": 2,
   "id": "46c16602-270a-410c-8177-f9bf3f70fd6c",
   "metadata": {},
   "outputs": [
    {
     "name": "stdin",
     "output_type": "stream",
     "text": [
      "Enter a number:  5\n"
     ]
    },
    {
     "name": "stdout",
     "output_type": "stream",
     "text": [
      "The factorial of 5 is 120\n"
     ]
    }
   ],
   "source": [
    "def factorial(n):\n",
    "    if n == 0 or n == 1:\n",
    "        return 1\n",
    "    else:\n",
    "        return n * factorial(n-1)\n",
    "\n",
    "# Taking user input for the number\n",
    "num = int(input(\"Enter a number: \"))\n",
    "\n",
    "# Check if the number is non-negative\n",
    "if num < 0:\n",
    "    print(\"Factorial is not defined for negative numbers.\")\n",
    "else:\n",
    "    result = factorial(num)\n",
    "    print(f\"The factorial of {num} is {result}\")\n"
   ]
  },
  {
   "cell_type": "markdown",
   "id": "0357b86f",
   "metadata": {},
   "source": [
    "### 3. Write a Python Program to calculate your Body Mass Index?"
   ]
  },
  {
   "cell_type": "code",
   "execution_count": 11,
   "id": "3bb7164e-76e5-4307-a61b-d18d7c95d88c",
   "metadata": {},
   "outputs": [
    {
     "name": "stdin",
     "output_type": "stream",
     "text": [
      "Enter your weight in kilograms:  58\n",
      "Enter your height in meters:  1.73\n"
     ]
    },
    {
     "name": "stdout",
     "output_type": "stream",
     "text": [
      "Your Body Mass Index (BMI) is: 19.38\n",
      "Your weight is normal (healthy weight).\n"
     ]
    }
   ],
   "source": [
    "def calculate_bmi(weight, height):\n",
    "    # BMI formula: weight (kg) / (height (m) ^ 2)\n",
    "    bmi = weight / (height ** 2)\n",
    "    return bmi\n",
    "\n",
    "# Taking user input for weight and height\n",
    "weight = float(input(\"Enter your weight in kilograms: \"))\n",
    "height = float(input(\"Enter your height in meters: \"))\n",
    "\n",
    "# Check if the inputs are valid\n",
    "if weight <= 0 or height <= 0:\n",
    "    print(\"Invalid input. Please enter positive values for weight and height.\")\n",
    "else:\n",
    "    # Calculate BMI\n",
    "    bmi = calculate_bmi(weight, height)\n",
    "    \n",
    "    # Display the result\n",
    "    print(f\"Your Body Mass Index (BMI) is: {bmi:.2f}\")\n",
    "\n",
    "    # Interpretation of BMI categories\n",
    "    if bmi < 18.5:\n",
    "        print(\"You are underweight.\")\n",
    "    elif 18.5 <= bmi < 25:\n",
    "        print(\"Your weight is normal (healthy weight).\")\n",
    "    elif 25 <= bmi < 30:\n",
    "        print(\"You are overweight.\")\n",
    "    else:\n",
    "        print(\"You are obese.\")\n"
   ]
  },
  {
   "cell_type": "markdown",
   "id": "96d344a4",
   "metadata": {},
   "source": [
    "### 4. Write a Python Program to calculate the natural logarithm of any number?"
   ]
  },
  {
   "cell_type": "code",
   "execution_count": 12,
   "id": "1bc89077-02fe-49d6-9b0a-8958abe59b72",
   "metadata": {},
   "outputs": [
    {
     "name": "stdin",
     "output_type": "stream",
     "text": [
      "Enter a positive number:  10\n"
     ]
    },
    {
     "name": "stdout",
     "output_type": "stream",
     "text": [
      "The natural logarithm of 10.0 is: 2.302585092994046\n"
     ]
    }
   ],
   "source": [
    "import math\n",
    "\n",
    "def calculate_logarithm(number):\n",
    "    if number <= 0:\n",
    "        print(\"Logarithm is not defined for non-positive numbers.\")\n",
    "    else:\n",
    "        natural_log = math.log(number)\n",
    "        print(f\"The natural logarithm of {number} is: {natural_log}\")\n",
    "\n",
    "# Taking user input for the number\n",
    "num = float(input(\"Enter a positive number: \"))\n",
    "\n",
    "# Calculate and display the natural logarithm\n",
    "calculate_logarithm(num)\n"
   ]
  },
  {
   "cell_type": "markdown",
   "id": "11c0d92c",
   "metadata": {},
   "source": [
    "\n",
    "### 5. Write a Python Program for cube sum of first n natural numbers?\n"
   ]
  },
  {
   "cell_type": "code",
   "execution_count": 20,
   "id": "c64cec26-2864-4683-9203-b69bbddaf37e",
   "metadata": {},
   "outputs": [
    {
     "name": "stdin",
     "output_type": "stream",
     "text": [
      "Enter positive number (n) :  4\n"
     ]
    },
    {
     "name": "stdout",
     "output_type": "stream",
     "text": [
      "sum of first n 4 natural numbers is : 100\n"
     ]
    }
   ],
   "source": [
    "def cube_sum_of_natural_numbers(n):\n",
    "    if n<=0 :\n",
    "        print(\"cube sum of the n natural numbers not defined\")\n",
    "    else:\n",
    "        result = sum(i**3 for i in range(1,n+1))\n",
    "        print(f\"sum of first n {n} natural numbers is : {result}\")\n",
    "\n",
    "num = int(input(\"Enter positive number (n) : \"))\n",
    "cube_sum_of_natural_numbers(num)"
   ]
  },
  {
   "cell_type": "code",
   "execution_count": null,
   "id": "481b24e3-5368-4bfa-a831-b82e1964e5e0",
   "metadata": {},
   "outputs": [],
   "source": []
  }
 ],
 "metadata": {
  "kernelspec": {
   "display_name": "Python 3 (ipykernel)",
   "language": "python",
   "name": "python3"
  },
  "language_info": {
   "codemirror_mode": {
    "name": "ipython",
    "version": 3
   },
   "file_extension": ".py",
   "mimetype": "text/x-python",
   "name": "python",
   "nbconvert_exporter": "python",
   "pygments_lexer": "ipython3",
   "version": "3.11.5"
  }
 },
 "nbformat": 4,
 "nbformat_minor": 5
}
